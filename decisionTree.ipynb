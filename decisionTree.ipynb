{
 "cells": [
  {
   "attachments": {},
   "cell_type": "markdown",
   "metadata": {},
   "source": [
    "Tempat pembuatan model Decision Tree. <br>\n",
    "Hasil dari pembuatan model akan disimpan pada file : ```file text/semua kata.dictionary```"
   ]
  },
  {
   "cell_type": "markdown",
   "metadata": {},
   "source": [
    "# Import"
   ]
  },
  {
   "cell_type": "code",
   "execution_count": 5,
   "metadata": {},
   "outputs": [],
   "source": [
    "import numpy as np\n",
    "import pandas as pd\n",
    "import random\n",
    "import re\n",
    "\n",
    "# Library Bantuan\n",
    "from tqdm import tqdm\n",
    "import warnings\n",
    "import pickle\n",
    "from pprint import pprint\n",
    "warnings.filterwarnings('ignore')\n",
    "\n",
    "\n",
    "# Library Sendiri\n",
    "from libraryBantuan.tree import DecisionTree\n",
    "\n",
    "# Konstanta\n",
    "# PATH_FILE_TEXT = \"D:\\\\Rama Nitip\\\\python\\\\katla\\\\file text\\\\\"\n",
    "PATH_FILE_TEXT = \"./file text/\""
   ]
  },
  {
   "cell_type": "markdown",
   "metadata": {},
   "source": [
    "# Baca Data"
   ]
  },
  {
   "cell_type": "code",
   "execution_count": 6,
   "metadata": {},
   "outputs": [
    {
     "name": "stdout",
     "output_type": "stream",
     "text": [
      "Banyak Kata : 8314\n"
     ]
    }
   ],
   "source": [
    "daftar_kata = list(pd.read_csv(PATH_FILE_TEXT + 'lima huruf katla.csv', header=None)[0])\n",
    "print(f\"Banyak Kata : {len(daftar_kata)}\")"
   ]
  },
  {
   "cell_type": "markdown",
   "metadata": {},
   "source": [
    "# Buat Tree"
   ]
  },
  {
   "cell_type": "code",
   "execution_count": 7,
   "metadata": {},
   "outputs": [
    {
     "name": "stdout",
     "output_type": "stream",
     "text": [
      "3800\n"
     ]
    }
   ],
   "source": [
    "df_sample = random.choices(daftar_kata, k=5000)\n",
    "df_sample = list(set(df_sample))\n",
    "print(len(df_sample))"
   ]
  },
  {
   "cell_type": "code",
   "execution_count": 8,
   "metadata": {},
   "outputs": [
    {
     "ename": "KeyboardInterrupt",
     "evalue": "",
     "output_type": "error",
     "traceback": [
      "\u001b[1;31m---------------------------------------------------------------------------\u001b[0m",
      "\u001b[1;31mKeyboardInterrupt\u001b[0m                         Traceback (most recent call last)",
      "\u001b[1;32md:\\Projek\\katla\\decisionTree.ipynb Cell 7\u001b[0m in \u001b[0;36m2\n\u001b[0;32m      <a href='vscode-notebook-cell:/d%3A/Projek/katla/decisionTree.ipynb#W6sZmlsZQ%3D%3D?line=0'>1</a>\u001b[0m DT \u001b[39m=\u001b[39m DecisionTree()\n\u001b[1;32m----> <a href='vscode-notebook-cell:/d%3A/Projek/katla/decisionTree.ipynb#W6sZmlsZQ%3D%3D?line=1'>2</a>\u001b[0m DT\u001b[39m.\u001b[39;49mbuat_tree(daftar_kata, pakai_semua_daftar\u001b[39m=\u001b[39;49m\u001b[39mTrue\u001b[39;49;00m)\n",
      "File \u001b[1;32md:\\Projek\\katla\\libraryBantuan\\tree.py:51\u001b[0m, in \u001b[0;36mDecisionTree.buat_tree\u001b[1;34m(self, daftar_kata, kata_root, pakai_semua_daftar)\u001b[0m\n\u001b[0;32m     49\u001b[0m \u001b[39mself\u001b[39m\u001b[39m.\u001b[39mpakai_semua_daftar \u001b[39m=\u001b[39m pakai_semua_daftar\n\u001b[0;32m     50\u001b[0m \u001b[39mif\u001b[39;00m kata_root \u001b[39m==\u001b[39m \u001b[39mNone\u001b[39;00m:\n\u001b[1;32m---> 51\u001b[0m     kata_root \u001b[39m=\u001b[39m \u001b[39mself\u001b[39;49m\u001b[39m.\u001b[39;49mcari_kata_terbaik(daftar_kata, daftar_kata)[\u001b[39m0\u001b[39m]\n\u001b[0;32m     52\u001b[0m \u001b[39mself\u001b[39m\u001b[39m.\u001b[39mroot \u001b[39m=\u001b[39m \u001b[39mself\u001b[39m\u001b[39m.\u001b[39m__buat_tree(kata_root, daftar_kata, daftar_kata, \u001b[39m0\u001b[39m)\n\u001b[0;32m     53\u001b[0m \u001b[39mself\u001b[39m\u001b[39m.\u001b[39mnow  \u001b[39m=\u001b[39m \u001b[39mself\u001b[39m\u001b[39m.\u001b[39mroot\n",
      "File \u001b[1;32md:\\Projek\\katla\\libraryBantuan\\tree.py:124\u001b[0m, in \u001b[0;36mDecisionTree.cari_kata_terbaik\u001b[1;34m(self, daftar_kata_split, daftar_kata)\u001b[0m\n\u001b[0;32m    122\u001b[0m daftar_pola \u001b[39m=\u001b[39m {}\n\u001b[0;32m    123\u001b[0m \u001b[39mfor\u001b[39;00m kandidat_jawaban \u001b[39min\u001b[39;00m daftar_kata: \u001b[39m# Cari segala kemungkinan pola\u001b[39;00m\n\u001b[1;32m--> 124\u001b[0m     pola \u001b[39m=\u001b[39m \u001b[39mself\u001b[39;49m\u001b[39m.\u001b[39;49mgetPola(kata, kandidat_jawaban)\n\u001b[0;32m    125\u001b[0m     daftar_pola[pola] \u001b[39m=\u001b[39m daftar_pola[pola]\u001b[39m+\u001b[39m\u001b[39m1\u001b[39m \u001b[39mif\u001b[39;00m (pola \u001b[39min\u001b[39;00m daftar_pola) \u001b[39melse\u001b[39;00m \u001b[39m1\u001b[39m\n\u001b[0;32m    127\u001b[0m \u001b[39mfor\u001b[39;00m pola, n \u001b[39min\u001b[39;00m daftar_pola\u001b[39m.\u001b[39mitems(): \u001b[39m# Hitung nilai impurity akhir\u001b[39;00m\n",
      "File \u001b[1;32md:\\Projek\\katla\\libraryBantuan\\tree.py:150\u001b[0m, in \u001b[0;36mDecisionTree.getPola\u001b[1;34m(self, tebakan, jawaban)\u001b[0m\n\u001b[0;32m    148\u001b[0m \u001b[39m# yellow check / ada tapi salah tempat\u001b[39;00m\n\u001b[0;32m    149\u001b[0m \u001b[39mfor\u001b[39;00m i \u001b[39min\u001b[39;00m \u001b[39mrange\u001b[39m(\u001b[39m5\u001b[39m):\n\u001b[1;32m--> 150\u001b[0m     \u001b[39mif\u001b[39;00m respon_pola[i] \u001b[39m==\u001b[39;49m \u001b[39m'\u001b[39;49m\u001b[39m!\u001b[39;49m\u001b[39m'\u001b[39;49m:\n\u001b[0;32m    151\u001b[0m         \u001b[39mcontinue\u001b[39;00m\n\u001b[0;32m    152\u001b[0m     \u001b[39mif\u001b[39;00m tebakan[i] \u001b[39min\u001b[39;00m list_jawaban:\n",
      "\u001b[1;31mKeyboardInterrupt\u001b[0m: "
     ]
    }
   ],
   "source": [
    "DT = DecisionTree()\n",
    "DT.buat_tree(daftar_kata, pakai_semua_daftar=True)\n",
    "# DT.buat_tree(daftar_kata, kata_root=\"sarit\", pakai_semua_daftar=True)"
   ]
  },
  {
   "cell_type": "markdown",
   "metadata": {},
   "source": [
    "1000 = 9.6 <br>\n",
    "5000 = 122.7<br>\n",
    "8331 = 10m"
   ]
  },
  {
   "cell_type": "code",
   "execution_count": null,
   "metadata": {},
   "outputs": [],
   "source": [
    "pprint(DT.buat_dictionary(DT.root))"
   ]
  },
  {
   "cell_type": "code",
   "execution_count": null,
   "metadata": {},
   "outputs": [
    {
     "data": {
      "text/plain": [
       "'sarit'"
      ]
     },
     "execution_count": 11,
     "metadata": {},
     "output_type": "execute_result"
    }
   ],
   "source": [
    "DT.root.tebakan"
   ]
  },
  {
   "cell_type": "code",
   "execution_count": null,
   "metadata": {},
   "outputs": [],
   "source": [
    "with open(PATH_FILE_TEXT+\"coba.csv\", 'w') as file:\n",
    "    for kata in df_sample:\n",
    "        file.write(kata+'\\n')"
   ]
  },
  {
   "cell_type": "code",
   "execution_count": null,
   "metadata": {},
   "outputs": [],
   "source": [
    "# atman\n",
    "DT.kata_berikutnya(\"??***\")"
   ]
  },
  {
   "cell_type": "markdown",
   "metadata": {},
   "source": [
    "# Lihat isi Dictionary"
   ]
  },
  {
   "cell_type": "code",
   "execution_count": null,
   "metadata": {},
   "outputs": [
    {
     "ename": "NameError",
     "evalue": "name 'DT' is not defined",
     "output_type": "error",
     "traceback": [
      "\u001b[1;31m---------------------------------------------------------------------------\u001b[0m",
      "\u001b[1;31mNameError\u001b[0m                                 Traceback (most recent call last)",
      "\u001b[1;32md:\\Rama Nitip\\python\\katla\\decisionTree.ipynb Cell 10'\u001b[0m in \u001b[0;36m<cell line: 1>\u001b[1;34m()\u001b[0m\n\u001b[1;32m----> <a href='vscode-notebook-cell:/d%3A/Rama%20Nitip/python/katla/decisionTree.ipynb#ch0000009?line=0'>1</a>\u001b[0m pprint(DT\u001b[39m.\u001b[39mbuat_dictionary(DT\u001b[39m.\u001b[39mroot))\n",
      "\u001b[1;31mNameError\u001b[0m: name 'DT' is not defined"
     ]
    }
   ],
   "source": [
    "pprint(DT.buat_dictionary(DT.root))"
   ]
  },
  {
   "cell_type": "markdown",
   "metadata": {},
   "source": [
    "# Simpan Object Decision Tree"
   ]
  },
  {
   "cell_type": "code",
   "execution_count": null,
   "metadata": {},
   "outputs": [],
   "source": [
    "DT.simpan_object(PATH_FILE_TEXT+\"semua kata.dictionary\")"
   ]
  }
 ],
 "metadata": {
  "kernelspec": {
   "display_name": "Python 3.10.6 64-bit",
   "language": "python",
   "name": "python3"
  },
  "language_info": {
   "codemirror_mode": {
    "name": "ipython",
    "version": 3
   },
   "file_extension": ".py",
   "mimetype": "text/x-python",
   "name": "python",
   "nbconvert_exporter": "python",
   "pygments_lexer": "ipython3",
   "version": "3.10.6"
  },
  "orig_nbformat": 4,
  "vscode": {
   "interpreter": {
    "hash": "4160309f66b7b88af9f8e95d1ddf39c3f877172e9d198850580e20801fe33990"
   }
  }
 },
 "nbformat": 4,
 "nbformat_minor": 2
}
