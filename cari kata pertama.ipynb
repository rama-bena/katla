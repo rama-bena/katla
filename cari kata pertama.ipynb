{
 "cells": [
  {
   "cell_type": "markdown",
   "metadata": {},
   "source": [
    "# Import"
   ]
  },
  {
   "cell_type": "code",
   "execution_count": 2,
   "metadata": {},
   "outputs": [],
   "source": [
    "import numpy as np\n",
    "import pandas as pd\n",
    "import random\n",
    "import re\n",
    "\n",
    "# Library Bantuan\n",
    "from tqdm import tqdm\n",
    "import warnings\n",
    "warnings.filterwarnings('ignore')\n",
    "\n",
    "\n",
    "# Library Sendiri\n",
    "from libraryBantuan.katla import Katla\n",
    "\n",
    "# Konstanta\n",
    "PATH_FILE_TEXT = \"D:\\\\Rama Nitip\\\\python\\\\katla\\\\file text\\\\\""
   ]
  },
  {
   "cell_type": "markdown",
   "metadata": {},
   "source": [
    "# Baca Data"
   ]
  },
  {
   "cell_type": "code",
   "execution_count": 3,
   "metadata": {},
   "outputs": [
    {
     "name": "stdout",
     "output_type": "stream",
     "text": [
      "Banyak Kata : 8314\n"
     ]
    }
   ],
   "source": [
    "daftar_kata = list(pd.read_csv(PATH_FILE_TEXT + 'lima huruf katla.csv', header=None)[0])\n",
    "print(f\"Banyak Kata : {len(daftar_kata)}\")"
   ]
  },
  {
   "cell_type": "markdown",
   "metadata": {},
   "source": [
    "# Fungsi nebak"
   ]
  },
  {
   "cell_type": "markdown",
   "metadata": {},
   "source": [
    "! = benar <br>\n",
    "? = ada tapi salah tempat <br>\n",
    "\\* = tidak ada huruf tersebut\n"
   ]
  },
  {
   "cell_type": "markdown",
   "metadata": {},
   "source": [
    "# Program Cari Kata Terbaik"
   ]
  },
  {
   "cell_type": "code",
   "execution_count": 4,
   "metadata": {},
   "outputs": [
    {
     "name": "stderr",
     "output_type": "stream",
     "text": [
      "100%|██████████| 8314/8314 [1:04:03<00:00,  2.16it/s]\n"
     ]
    }
   ],
   "source": [
    "katla = Katla(daftar_kata)\n",
    "hasil = katla.cari_kata_selanjutnya(verbose=1)"
   ]
  },
  {
   "cell_type": "code",
   "execution_count": 9,
   "metadata": {},
   "outputs": [
    {
     "data": {
      "text/html": [
       "<div>\n",
       "<style scoped>\n",
       "    .dataframe tbody tr th:only-of-type {\n",
       "        vertical-align: middle;\n",
       "    }\n",
       "\n",
       "    .dataframe tbody tr th {\n",
       "        vertical-align: top;\n",
       "    }\n",
       "\n",
       "    .dataframe thead th {\n",
       "        text-align: right;\n",
       "    }\n",
       "</style>\n",
       "<table border=\"1\" class=\"dataframe\">\n",
       "  <thead>\n",
       "    <tr style=\"text-align: right;\">\n",
       "      <th></th>\n",
       "      <th>kata</th>\n",
       "      <th>IG</th>\n",
       "      <th>detail</th>\n",
       "    </tr>\n",
       "  </thead>\n",
       "  <tbody>\n",
       "    <tr>\n",
       "      <th>0</th>\n",
       "      <td>sarit</td>\n",
       "      <td>0.023695</td>\n",
       "      <td>[(722, *?***), (678, *!***), (644, *****), (29...</td>\n",
       "    </tr>\n",
       "    <tr>\n",
       "      <th>1</th>\n",
       "      <td>paris</td>\n",
       "      <td>0.023575</td>\n",
       "      <td>[(797, *!***), (792, *?***), (760, *****), (31...</td>\n",
       "    </tr>\n",
       "    <tr>\n",
       "      <th>2</th>\n",
       "      <td>sarik</td>\n",
       "      <td>0.023454</td>\n",
       "      <td>[(652, *!***), (647, *?***), (539, *****), (27...</td>\n",
       "    </tr>\n",
       "    <tr>\n",
       "      <th>3</th>\n",
       "      <td>sirat</td>\n",
       "      <td>0.023214</td>\n",
       "      <td>[(832, ***!*), (644, *****), (568, ***?*), (29...</td>\n",
       "    </tr>\n",
       "    <tr>\n",
       "      <th>4</th>\n",
       "      <td>surat</td>\n",
       "      <td>0.023214</td>\n",
       "      <td>[(860, ***!*), (624, ***?*), (620, *****), (26...</td>\n",
       "    </tr>\n",
       "    <tr>\n",
       "      <th>...</th>\n",
       "      <td>...</td>\n",
       "      <td>...</td>\n",
       "      <td>...</td>\n",
       "    </tr>\n",
       "    <tr>\n",
       "      <th>8309</th>\n",
       "      <td>agama</td>\n",
       "      <td>-1.635194</td>\n",
       "      <td>[(3423, **?**), (3275, ?****), (3137, ****?), ...</td>\n",
       "    </tr>\n",
       "    <tr>\n",
       "      <th>8310</th>\n",
       "      <td>abaka</td>\n",
       "      <td>-1.635434</td>\n",
       "      <td>[(2808, **?**), (2683, ?****), (2544, ****?), ...</td>\n",
       "    </tr>\n",
       "    <tr>\n",
       "      <th>8311</th>\n",
       "      <td>abaya</td>\n",
       "      <td>-1.636517</td>\n",
       "      <td>[(3808, **?**), (3651, ?****), (3486, ****?), ...</td>\n",
       "    </tr>\n",
       "    <tr>\n",
       "      <th>8312</th>\n",
       "      <td>acara</td>\n",
       "      <td>-1.637238</td>\n",
       "      <td>[(3165, **?**), (3017, ?****), (2928, ****?), ...</td>\n",
       "    </tr>\n",
       "    <tr>\n",
       "      <th>8313</th>\n",
       "      <td>acala</td>\n",
       "      <td>-1.637840</td>\n",
       "      <td>[(3377, **?**), (3227, ?****), (3050, ****?), ...</td>\n",
       "    </tr>\n",
       "  </tbody>\n",
       "</table>\n",
       "<p>8314 rows × 3 columns</p>\n",
       "</div>"
      ],
      "text/plain": [
       "       kata        IG                                             detail\n",
       "0     sarit  0.023695  [(722, *?***), (678, *!***), (644, *****), (29...\n",
       "1     paris  0.023575  [(797, *!***), (792, *?***), (760, *****), (31...\n",
       "2     sarik  0.023454  [(652, *!***), (647, *?***), (539, *****), (27...\n",
       "3     sirat  0.023214  [(832, ***!*), (644, *****), (568, ***?*), (29...\n",
       "4     surat  0.023214  [(860, ***!*), (624, ***?*), (620, *****), (26...\n",
       "...     ...       ...                                                ...\n",
       "8309  agama -1.635194  [(3423, **?**), (3275, ?****), (3137, ****?), ...\n",
       "8310  abaka -1.635434  [(2808, **?**), (2683, ?****), (2544, ****?), ...\n",
       "8311  abaya -1.636517  [(3808, **?**), (3651, ?****), (3486, ****?), ...\n",
       "8312  acara -1.637238  [(3165, **?**), (3017, ?****), (2928, ****?), ...\n",
       "8313  acala -1.637840  [(3377, **?**), (3227, ?****), (3050, ****?), ...\n",
       "\n",
       "[8314 rows x 3 columns]"
      ]
     },
     "execution_count": 9,
     "metadata": {},
     "output_type": "execute_result"
    }
   ],
   "source": [
    "df = pd.DataFrame({'kata':[x[0] for x in hasil],\n",
    "                    'IG' :[x[1] for x in hasil],\n",
    "                    'detail':[list(filter(lambda a: a[0] != 0, x[2])) for x in hasil]})\n",
    "df['detail'] = df['detail'].apply(lambda x: sorted(x, key=lambda i: i[0], reverse=True))\n",
    "df"
   ]
  },
  {
   "cell_type": "code",
   "execution_count": 10,
   "metadata": {},
   "outputs": [],
   "source": [
    "df.to_csv(PATH_FILE_TEXT+ \"kata terbaik information gain.csv\", index=False)"
   ]
  }
 ],
 "metadata": {
  "kernelspec": {
   "display_name": "Python 3.10.6 64-bit",
   "language": "python",
   "name": "python3"
  },
  "language_info": {
   "codemirror_mode": {
    "name": "ipython",
    "version": 3
   },
   "file_extension": ".py",
   "mimetype": "text/x-python",
   "name": "python",
   "nbconvert_exporter": "python",
   "pygments_lexer": "ipython3",
   "version": "3.10.6"
  },
  "orig_nbformat": 4,
  "vscode": {
   "interpreter": {
    "hash": "4160309f66b7b88af9f8e95d1ddf39c3f877172e9d198850580e20801fe33990"
   }
  }
 },
 "nbformat": 4,
 "nbformat_minor": 2
}
