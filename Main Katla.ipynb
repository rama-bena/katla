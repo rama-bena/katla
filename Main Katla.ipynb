{
 "cells": [
  {
   "cell_type": "markdown",
   "metadata": {},
   "source": [
    "# Import"
   ]
  },
  {
   "cell_type": "code",
   "execution_count": 5,
   "metadata": {},
   "outputs": [],
   "source": [
    "import numpy as np\n",
    "import pandas as pd\n",
    "import random\n",
    "import re\n",
    "\n",
    "# Library Bantuan\n",
    "from tqdm import tqdm\n",
    "import warnings\n",
    "warnings.filterwarnings('ignore')\n",
    "import pickle\n",
    "from pprint import pprint\n",
    "\n",
    "# Library Sendiri\n",
    "from libraryBantuan.tree import DecisionTree\n",
    "\n",
    "# Konstanta\n",
    "PATH_FILE_TEXT = \"./file text/\""
   ]
  },
  {
   "cell_type": "markdown",
   "metadata": {},
   "source": [
    "# Baca Data"
   ]
  },
  {
   "cell_type": "code",
   "execution_count": 6,
   "metadata": {},
   "outputs": [
    {
     "name": "stdout",
     "output_type": "stream",
     "text": [
      "Banyak Kata : 8314\n"
     ]
    }
   ],
   "source": [
    "daftar_kata = list(pd.read_csv(PATH_FILE_TEXT + 'lima huruf katla.csv', header=None)[0])\n",
    "print(f\"Banyak Kata : {len(daftar_kata)}\")"
   ]
  },
  {
   "cell_type": "markdown",
   "metadata": {},
   "source": [
    "# Baca Decision Tree"
   ]
  },
  {
   "cell_type": "code",
   "execution_count": 7,
   "metadata": {},
   "outputs": [],
   "source": [
    "DT = DecisionTree(PATH_FILE_TEXT+\"semua kata.dictionary\")"
   ]
  },
  {
   "cell_type": "markdown",
   "metadata": {},
   "source": [
    "# Fungsi nebak"
   ]
  },
  {
   "cell_type": "markdown",
   "metadata": {},
   "source": [
    "! = benar <br>\n",
    "? = ada tapi salah tempat <br>\n",
    "\\* = tidak ada huruf tersebut\n"
   ]
  },
  {
   "cell_type": "markdown",
   "metadata": {},
   "source": [
    "# Main Katla"
   ]
  },
  {
   "cell_type": "code",
   "execution_count": null,
   "metadata": {},
   "outputs": [],
   "source": []
  },
  {
   "cell_type": "markdown",
   "metadata": {},
   "source": [
    "Kata pertama tulis **Sarit** terlebih dahulu pada katla, lalu hasil evaluasi tulis pada dibawah"
   ]
  },
  {
   "cell_type": "code",
   "execution_count": 51,
   "metadata": {},
   "outputs": [
    {
     "data": {
      "text/plain": [
       "'tenis'"
      ]
     },
     "execution_count": 51,
     "metadata": {},
     "output_type": "execute_result"
    }
   ],
   "source": [
    "DT = DecisionTree(PATH_FILE_TEXT+\"semua kata.dictionary\")\n",
    "\n",
    "# Evaluasi kata pertama \"sarit\"\n",
    "DT.kata_berikutnya(\"?**!?\")\n",
    "\n",
    "# Evaluasi kata kedua\n",
    "DT.kata_berikutnya(\"*!?**\")\n",
    "\n",
    "# Evaluasi kata ketiga\n",
    "DT.kata_berikutnya(\"**???\")\n",
    "\n",
    "# Evaluasi kata keempat\n",
    "# DT.kata_berikutnya(\"!!*!!\")\n",
    "\n"
   ]
  }
 ],
 "metadata": {
  "kernelspec": {
   "display_name": "Python 3.10.6 64-bit",
   "language": "python",
   "name": "python3"
  },
  "language_info": {
   "codemirror_mode": {
    "name": "ipython",
    "version": 3
   },
   "file_extension": ".py",
   "mimetype": "text/x-python",
   "name": "python",
   "nbconvert_exporter": "python",
   "pygments_lexer": "ipython3",
   "version": "3.10.6"
  },
  "orig_nbformat": 4,
  "vscode": {
   "interpreter": {
    "hash": "4160309f66b7b88af9f8e95d1ddf39c3f877172e9d198850580e20801fe33990"
   }
  }
 },
 "nbformat": 4,
 "nbformat_minor": 2
}
