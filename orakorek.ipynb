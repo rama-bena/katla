{
 "cells": [
  {
   "cell_type": "markdown",
   "metadata": {},
   "source": [
    "# Import"
   ]
  },
  {
   "cell_type": "code",
   "execution_count": 18,
   "metadata": {},
   "outputs": [],
   "source": [
    "import numpy as np\n",
    "import pandas as pd\n",
    "import random\n",
    "import re\n",
    "import matplotlib.pyplot as plt\n",
    "import seaborn as sns\n",
    "from IPython.display import display\n",
    "\n",
    "# Library Bantuan\n",
    "from tqdm import tqdm\n",
    "from pprint import pprint\n",
    "import warnings\n",
    "warnings.filterwarnings('ignore')\n",
    "\n",
    "\n",
    "# Library Sendiri\n",
    "from libraryBantuan.katla import Katla\n",
    "from libraryBantuan.gameKatla import GameKatla\n",
    "from libraryBantuan.tree import DecisionTree\n",
    "\n",
    "# Konstanta\n",
    "PATH_FILE_TEXT = \"D:\\\\Rama Nitip\\\\python\\\\katla\\\\file text\\\\\""
   ]
  },
  {
   "cell_type": "markdown",
   "metadata": {},
   "source": [
    "# Baca Data"
   ]
  },
  {
   "cell_type": "code",
   "execution_count": 2,
   "metadata": {},
   "outputs": [
    {
     "name": "stdout",
     "output_type": "stream",
     "text": [
      "Banyak Kata : 8314\n"
     ]
    }
   ],
   "source": [
    "daftar_kata = list(pd.read_csv(PATH_FILE_TEXT + 'lima huruf katla.csv', header=None)[0])\n",
    "list_jawaban = random.choices(daftar_kata, k=20)\n",
    "print(f\"Banyak Kata : {len(daftar_kata)}\")"
   ]
  },
  {
   "cell_type": "markdown",
   "metadata": {},
   "source": [
    "# Ambil model"
   ]
  },
  {
   "cell_type": "code",
   "execution_count": 5,
   "metadata": {},
   "outputs": [],
   "source": [
    "\n",
    "DT = DecisionTree(PATH_FILE_TEXT+\"DT.dictionary\")\n",
    "jumlah_bertanya = {key:[0,[]] for key in range(1, 14)}\n",
    "\n",
    "\n",
    "for jawaban in daftar_kata:\n",
    "    DT.now = DT.root                    # reset now menjadi di root\n",
    "    game = GameKatla(daftar_kata, jawaban)\n",
    "    tanya = 0\n",
    "\n",
    "    tebakan = \"sarit\"\n",
    "    pola = game.evaluasi_tebakan(tebakan)\n",
    "    tanya += 1\n",
    "\n",
    "    while pola != \"!!!!!\":\n",
    "        tebakan = DT.kata_berikutnya(pola)\n",
    "        pola    = game.evaluasi_tebakan(tebakan)\n",
    "        tanya  += 1 \n",
    "\n",
    "    if tanya in jumlah_bertanya:\n",
    "        jumlah_bertanya[tanya][0] = jumlah_bertanya[tanya][0] + 1\n",
    "        jumlah_bertanya[tanya][1].append(jawaban)\n",
    "    else:\n",
    "        jumlah_bertanya[tanya] = [1, [jawaban]]"
   ]
  },
  {
   "cell_type": "markdown",
   "metadata": {},
   "source": [
    "# Pakai kata yang peluang jadi jawaban saja"
   ]
  },
  {
   "cell_type": "code",
   "execution_count": 19,
   "metadata": {},
   "outputs": [
    {
     "data": {
      "text/html": [
       "<div>\n",
       "<style scoped>\n",
       "    .dataframe tbody tr th:only-of-type {\n",
       "        vertical-align: middle;\n",
       "    }\n",
       "\n",
       "    .dataframe tbody tr th {\n",
       "        vertical-align: top;\n",
       "    }\n",
       "\n",
       "    .dataframe thead th {\n",
       "        text-align: right;\n",
       "    }\n",
       "</style>\n",
       "<table border=\"1\" class=\"dataframe\">\n",
       "  <thead>\n",
       "    <tr style=\"text-align: right;\">\n",
       "      <th></th>\n",
       "      <th>tanya</th>\n",
       "      <th>banyaknya</th>\n",
       "      <th>daftar kata</th>\n",
       "    </tr>\n",
       "  </thead>\n",
       "  <tbody>\n",
       "    <tr>\n",
       "      <th>0</th>\n",
       "      <td>1</td>\n",
       "      <td>1</td>\n",
       "      <td>[sarit]</td>\n",
       "    </tr>\n",
       "    <tr>\n",
       "      <th>1</th>\n",
       "      <td>2</td>\n",
       "      <td>197</td>\n",
       "      <td>[abrip, adpis, afkir, afrit, aktip, albit, amb...</td>\n",
       "    </tr>\n",
       "    <tr>\n",
       "      <th>2</th>\n",
       "      <td>3</td>\n",
       "      <td>2130</td>\n",
       "      <td>[abdis, ablur, abnus, abras, abrin, absen, abs...</td>\n",
       "    </tr>\n",
       "    <tr>\n",
       "      <th>3</th>\n",
       "      <td>4</td>\n",
       "      <td>3310</td>\n",
       "      <td>[abadi, abaka, abate, abawi, abaya, abbas, abd...</td>\n",
       "    </tr>\n",
       "    <tr>\n",
       "      <th>4</th>\n",
       "      <td>5</td>\n",
       "      <td>1620</td>\n",
       "      <td>[abang, abdas, abrar, abuza, abyad, acawi, aci...</td>\n",
       "    </tr>\n",
       "    <tr>\n",
       "      <th>5</th>\n",
       "      <td>6</td>\n",
       "      <td>623</td>\n",
       "      <td>[acang, adzan, afian, ajing, ajuan, ajung, amp...</td>\n",
       "    </tr>\n",
       "    <tr>\n",
       "      <th>6</th>\n",
       "      <td>7</td>\n",
       "      <td>265</td>\n",
       "      <td>[ahang, ajian, amung, anyar, babar, babas, bab...</td>\n",
       "    </tr>\n",
       "    <tr>\n",
       "      <th>7</th>\n",
       "      <td>8</td>\n",
       "      <td>103</td>\n",
       "      <td>[agung, ajang, anian, baban, bahar, bapak, bay...</td>\n",
       "    </tr>\n",
       "    <tr>\n",
       "      <th>8</th>\n",
       "      <td>9</td>\n",
       "      <td>38</td>\n",
       "      <td>[anang, apung, bawak, bayan, bayar, cacar, gah...</td>\n",
       "    </tr>\n",
       "    <tr>\n",
       "      <th>9</th>\n",
       "      <td>10</td>\n",
       "      <td>17</td>\n",
       "      <td>[awang, babak, bazar, capar, lawak, lelas, mar...</td>\n",
       "    </tr>\n",
       "    <tr>\n",
       "      <th>10</th>\n",
       "      <td>11</td>\n",
       "      <td>8</td>\n",
       "      <td>[bayak, layak, sawar, sesak, sewat, tawak, wel...</td>\n",
       "    </tr>\n",
       "    <tr>\n",
       "      <th>11</th>\n",
       "      <td>12</td>\n",
       "      <td>1</td>\n",
       "      <td>[sesat]</td>\n",
       "    </tr>\n",
       "    <tr>\n",
       "      <th>12</th>\n",
       "      <td>13</td>\n",
       "      <td>1</td>\n",
       "      <td>[setat]</td>\n",
       "    </tr>\n",
       "  </tbody>\n",
       "</table>\n",
       "</div>"
      ],
      "text/plain": [
       "    tanya  banyaknya                                        daftar kata\n",
       "0       1          1                                            [sarit]\n",
       "1       2        197  [abrip, adpis, afkir, afrit, aktip, albit, amb...\n",
       "2       3       2130  [abdis, ablur, abnus, abras, abrin, absen, abs...\n",
       "3       4       3310  [abadi, abaka, abate, abawi, abaya, abbas, abd...\n",
       "4       5       1620  [abang, abdas, abrar, abuza, abyad, acawi, aci...\n",
       "5       6        623  [acang, adzan, afian, ajing, ajuan, ajung, amp...\n",
       "6       7        265  [ahang, ajian, amung, anyar, babar, babas, bab...\n",
       "7       8        103  [agung, ajang, anian, baban, bahar, bapak, bay...\n",
       "8       9         38  [anang, apung, bawak, bayan, bayar, cacar, gah...\n",
       "9      10         17  [awang, babak, bazar, capar, lawak, lelas, mar...\n",
       "10     11          8  [bayak, layak, sawar, sesak, sewat, tawak, wel...\n",
       "11     12          1                                            [sesat]\n",
       "12     13          1                                            [setat]"
      ]
     },
     "metadata": {},
     "output_type": "display_data"
    },
    {
     "data": {
      "image/png": "[encoded data removed]",
      "text/plain": [
       "<Figure size 432x288 with 1 Axes>"
      ]
     },
     "metadata": {
      "needs_background": "light"
     },
     "output_type": "display_data"
    }
   ],
   "source": [
    "tanya = jumlah_bertanya.keys()\n",
    "banyaknya = [i[0] for i in list(jumlah_bertanya.values())]\n",
    "kata = [i[1] for i in list(jumlah_bertanya.values())]\n",
    "\n",
    "df = pd.DataFrame({'tanya':tanya, 'banyaknya':banyaknya, 'daftar kata':kata}).sort_values(by='tanya')\n",
    "display(df)\n",
    "\n",
    "sns.barplot(x=df['tanya'], y=df['banyaknya']);"
   ]
  },
  {
   "cell_type": "markdown",
   "metadata": {},
   "source": [
    "# Coba"
   ]
  },
  {
   "cell_type": "markdown",
   "metadata": {},
   "source": []
  }
 ],
 "metadata": {
  "interpreter": {
   "hash": "9d1374e53a6092f852bc6f80edf7bb9a8943712eabdd7fdf0a60802782b29ee3"
  },
  "kernelspec": {
   "display_name": "Python 3.10.4 64-bit",
   "language": "python",
   "name": "python3"
  },
  "language_info": {
   "codemirror_mode": {
    "name": "ipython",
    "version": 3
   },
   "file_extension": ".py",
   "mimetype": "text/x-python",
   "name": "python",
   "nbconvert_exporter": "python",
   "pygments_lexer": "ipython3",
   "version": "3.10.4"
  },
  "orig_nbformat": 4
 },
 "nbformat": 4,
 "nbformat_minor": 2
}
