{
 "cells": [
  {
   "cell_type": "markdown",
   "metadata": {},
   "source": [
    "# Import"
   ]
  },
  {
   "cell_type": "code",
   "execution_count": 7,
   "metadata": {},
   "outputs": [],
   "source": [
    "import numpy as np\n",
    "import pandas as pd\n",
    "import random\n",
    "import re\n",
    "import matplotlib.pyplot as plt\n",
    "import seaborn as sns\n",
    "\n",
    "# Library Bantuan\n",
    "from tqdm import tqdm\n",
    "import warnings\n",
    "warnings.filterwarnings('ignore')\n",
    "\n",
    "\n",
    "# Library Sendiri\n",
    "from libraryBantuan.katla import Katla\n",
    "from libraryBantuan.gameKatla import GameKatla\n",
    "\n",
    "# Konstanta\n",
    "PATH_FILE_TEXT = \"D:\\\\Rama Nitip\\\\python\\\\katla\\\\file text\\\\\""
   ]
  },
  {
   "cell_type": "markdown",
   "metadata": {},
   "source": [
    "# Baca Data"
   ]
  },
  {
   "cell_type": "code",
   "execution_count": 8,
   "metadata": {},
   "outputs": [
    {
     "name": "stdout",
     "output_type": "stream",
     "text": [
      "Banyak Kata : 8314\n"
     ]
    }
   ],
   "source": [
    "daftar_kata = list(pd.read_csv(PATH_FILE_TEXT + 'lima huruf katla.csv', header=None)[0])\n",
    "list_jawaban = random.choices(daftar_kata, k=20)\n",
    "print(f\"Banyak Kata : {len(daftar_kata)}\")"
   ]
  },
  {
   "cell_type": "code",
   "execution_count": 9,
   "metadata": {},
   "outputs": [
    {
     "name": "stdout",
     "output_type": "stream",
     "text": [
      "Permainan ke 0 : punai\n",
      "Tebakan:sarit;  Pola:*?*?*\n",
      "Tebakan:kulan;  Pola:*!*!?\n",
      "Tebakan:abadi;  Pola:?***!\n",
      "Tebakan:abadi;  Pola:?***!\n"
     ]
    },
    {
     "ename": "KeyboardInterrupt",
     "evalue": "",
     "output_type": "error",
     "traceback": [
      "\u001b[1;31m---------------------------------------------------------------------------\u001b[0m",
      "\u001b[1;31mKeyboardInterrupt\u001b[0m                         Traceback (most recent call last)",
      "\u001b[1;32md:\\Rama Nitip\\python\\katla\\orakorek.ipynb Cell 5'\u001b[0m in \u001b[0;36m<cell line: 4>\u001b[1;34m()\u001b[0m\n\u001b[0;32m     <a href='vscode-notebook-cell:/d%3A/Rama%20Nitip/python/katla/orakorek.ipynb#ch0000004?line=12'>13</a>\u001b[0m \u001b[39mprint\u001b[39m(\u001b[39mf\u001b[39m\u001b[39m\"\u001b[39m\u001b[39mTebakan:\u001b[39m\u001b[39m{\u001b[39;00mtebakan\u001b[39m}\u001b[39;00m\u001b[39m;  Pola:\u001b[39m\u001b[39m{\u001b[39;00mpola\u001b[39m}\u001b[39;00m\u001b[39m\"\u001b[39m)\n\u001b[0;32m     <a href='vscode-notebook-cell:/d%3A/Rama%20Nitip/python/katla/orakorek.ipynb#ch0000004?line=14'>15</a>\u001b[0m \u001b[39mwhile\u001b[39;00m pola \u001b[39m!=\u001b[39m \u001b[39m\"\u001b[39m\u001b[39m!!!!!\u001b[39m\u001b[39m\"\u001b[39m:\n\u001b[1;32m---> <a href='vscode-notebook-cell:/d%3A/Rama%20Nitip/python/katla/orakorek.ipynb#ch0000004?line=15'>16</a>\u001b[0m     tebakan \u001b[39m=\u001b[39m katla\u001b[39m.\u001b[39;49mtebakan_selanjutnya(tebakan, pola)\n\u001b[0;32m     <a href='vscode-notebook-cell:/d%3A/Rama%20Nitip/python/katla/orakorek.ipynb#ch0000004?line=16'>17</a>\u001b[0m     pola    \u001b[39m=\u001b[39m game\u001b[39m.\u001b[39mevaluasi_tebakan(tebakan)\n\u001b[0;32m     <a href='vscode-notebook-cell:/d%3A/Rama%20Nitip/python/katla/orakorek.ipynb#ch0000004?line=17'>18</a>\u001b[0m     tanya  \u001b[39m+\u001b[39m\u001b[39m=\u001b[39m \u001b[39m1\u001b[39m \n",
      "File \u001b[1;32md:\\Rama Nitip\\python\\katla\\libraryBantuan\\katla.py:50\u001b[0m, in \u001b[0;36mKatla.tebakan_selanjutnya\u001b[1;34m(self, tebakan, pola, tampilkan_detail)\u001b[0m\n\u001b[0;32m     <a href='file:///d%3A/Rama%20Nitip/python/katla/libraryBantuan/katla.py?line=47'>48</a>\u001b[0m     \u001b[39mprint\u001b[39m(\u001b[39mf\u001b[39m\u001b[39m\"\u001b[39m\u001b[39mBanyak Kata : \u001b[39m\u001b[39m{\u001b[39;00m\u001b[39mlen\u001b[39m(\u001b[39mself\u001b[39m\u001b[39m.\u001b[39mdaftar_kata)\u001b[39m}\u001b[39;00m\u001b[39m\"\u001b[39m)\n\u001b[0;32m     <a href='file:///d%3A/Rama%20Nitip/python/katla/libraryBantuan/katla.py?line=48'>49</a>\u001b[0m     \u001b[39m# print(self.daftar_kata)\u001b[39;00m\n\u001b[1;32m---> <a href='file:///d%3A/Rama%20Nitip/python/katla/libraryBantuan/katla.py?line=49'>50</a>\u001b[0m \u001b[39mreturn\u001b[39;00m \u001b[39mself\u001b[39;49m\u001b[39m.\u001b[39;49mcari_kata_selanjutnya(\u001b[39m1\u001b[39;49m \u001b[39mif\u001b[39;49;00m tampilkan_detail \u001b[39melse\u001b[39;49;00m \u001b[39m0\u001b[39;49m)\n",
      "File \u001b[1;32md:\\Rama Nitip\\python\\katla\\libraryBantuan\\katla.py:67\u001b[0m, in \u001b[0;36mKatla.cari_kata_selanjutnya\u001b[1;34m(self, verbose)\u001b[0m\n\u001b[0;32m     <a href='file:///d%3A/Rama%20Nitip/python/katla/libraryBantuan/katla.py?line=64'>65</a>\u001b[0m isi \u001b[39m=\u001b[39m []\n\u001b[0;32m     <a href='file:///d%3A/Rama%20Nitip/python/katla/libraryBantuan/katla.py?line=65'>66</a>\u001b[0m \u001b[39mfor\u001b[39;00m pola \u001b[39min\u001b[39;00m \u001b[39mself\u001b[39m\u001b[39m.\u001b[39msemua_pola:         \u001b[39m# untuk setiap pola hitung kemungkinannya\u001b[39;00m\n\u001b[1;32m---> <a href='file:///d%3A/Rama%20Nitip/python/katla/libraryBantuan/katla.py?line=66'>67</a>\u001b[0m     n \u001b[39m=\u001b[39m \u001b[39mlen\u001b[39m(\u001b[39mself\u001b[39;49m\u001b[39m.\u001b[39;49mkandidat(kata, pola, \u001b[39mself\u001b[39;49m\u001b[39m.\u001b[39;49mdaftar_kata))\n\u001b[0;32m     <a href='file:///d%3A/Rama%20Nitip/python/katla/libraryBantuan/katla.py?line=67'>68</a>\u001b[0m     impurity_akhir \u001b[39m+\u001b[39m\u001b[39m=\u001b[39m P(n) \u001b[39m*\u001b[39m impurity(n)\n\u001b[0;32m     <a href='file:///d%3A/Rama%20Nitip/python/katla/libraryBantuan/katla.py?line=68'>69</a>\u001b[0m     \u001b[39mif\u001b[39;00m n\u001b[39m!=\u001b[39m\u001b[39m0\u001b[39m:\n",
      "File \u001b[1;32md:\\Rama Nitip\\python\\katla\\libraryBantuan\\katla.py:27\u001b[0m, in \u001b[0;36mKatla.kandidat\u001b[1;34m(self, tebakan, pola, daf_kata)\u001b[0m\n\u001b[0;32m     <a href='file:///d%3A/Rama%20Nitip/python/katla/libraryBantuan/katla.py?line=23'>24</a>\u001b[0m         pola_regex[i] \u001b[39m=\u001b[39m \u001b[39mf\u001b[39m\u001b[39m\"\u001b[39m\u001b[39m[^ \u001b[39m\u001b[39m{\u001b[39;00mhuruf_bintang\u001b[39m}\u001b[39;00m\u001b[39m]\u001b[39m\u001b[39m\"\u001b[39m\n\u001b[0;32m     <a href='file:///d%3A/Rama%20Nitip/python/katla/libraryBantuan/katla.py?line=25'>26</a>\u001b[0m pola_regex \u001b[39m=\u001b[39m \u001b[39mr\u001b[39m\u001b[39m\"\u001b[39m\u001b[39m\"\u001b[39m\u001b[39m.\u001b[39mjoin(pola_regex)\n\u001b[1;32m---> <a href='file:///d%3A/Rama%20Nitip/python/katla/libraryBantuan/katla.py?line=26'>27</a>\u001b[0m daf_kata \u001b[39m=\u001b[39m re\u001b[39m.\u001b[39;49mfindall(pola_regex, \u001b[39m'\u001b[39;49m\u001b[39m \u001b[39;49m\u001b[39m'\u001b[39;49m\u001b[39m.\u001b[39;49mjoin(daf_kata))\n\u001b[0;32m     <a href='file:///d%3A/Rama%20Nitip/python/katla/libraryBantuan/katla.py?line=28'>29</a>\u001b[0m \u001b[39m# Mengambil kata2 yang ada huruf ?\u001b[39;00m\n\u001b[0;32m     <a href='file:///d%3A/Rama%20Nitip/python/katla/libraryBantuan/katla.py?line=29'>30</a>\u001b[0m list_harus_ada_huruf \u001b[39m=\u001b[39m [tebakan[i] \u001b[39mfor\u001b[39;00m i \u001b[39min\u001b[39;00m \u001b[39mrange\u001b[39m(\u001b[39m5\u001b[39m) \u001b[39mif\u001b[39;00m pola[i]\u001b[39m==\u001b[39m\u001b[39m'\u001b[39m\u001b[39m?\u001b[39m\u001b[39m'\u001b[39m]\n",
      "File \u001b[1;32m~\\AppData\\Local\\Programs\\Python\\Python310\\lib\\re.py:240\u001b[0m, in \u001b[0;36mfindall\u001b[1;34m(pattern, string, flags)\u001b[0m\n\u001b[0;32m    <a href='file:///c%3A/Users/ramab/AppData/Local/Programs/Python/Python310/lib/re.py?line=231'>232</a>\u001b[0m \u001b[39mdef\u001b[39;00m \u001b[39mfindall\u001b[39m(pattern, string, flags\u001b[39m=\u001b[39m\u001b[39m0\u001b[39m):\n\u001b[0;32m    <a href='file:///c%3A/Users/ramab/AppData/Local/Programs/Python/Python310/lib/re.py?line=232'>233</a>\u001b[0m     \u001b[39m\"\"\"Return a list of all non-overlapping matches in the string.\u001b[39;00m\n\u001b[0;32m    <a href='file:///c%3A/Users/ramab/AppData/Local/Programs/Python/Python310/lib/re.py?line=233'>234</a>\u001b[0m \n\u001b[0;32m    <a href='file:///c%3A/Users/ramab/AppData/Local/Programs/Python/Python310/lib/re.py?line=234'>235</a>\u001b[0m \u001b[39m    If one or more capturing groups are present in the pattern, return\u001b[39;00m\n\u001b[1;32m   (...)\u001b[0m\n\u001b[0;32m    <a href='file:///c%3A/Users/ramab/AppData/Local/Programs/Python/Python310/lib/re.py?line=237'>238</a>\u001b[0m \n\u001b[0;32m    <a href='file:///c%3A/Users/ramab/AppData/Local/Programs/Python/Python310/lib/re.py?line=238'>239</a>\u001b[0m \u001b[39m    Empty matches are included in the result.\"\"\"\u001b[39;00m\n\u001b[1;32m--> <a href='file:///c%3A/Users/ramab/AppData/Local/Programs/Python/Python310/lib/re.py?line=239'>240</a>\u001b[0m     \u001b[39mreturn\u001b[39;00m _compile(pattern, flags)\u001b[39m.\u001b[39mfindall(string)\n",
      "File \u001b[1;32m~\\AppData\\Local\\Programs\\Python\\Python310\\lib\\re.py:303\u001b[0m, in \u001b[0;36m_compile\u001b[1;34m(pattern, flags)\u001b[0m\n\u001b[0;32m    <a href='file:///c%3A/Users/ramab/AppData/Local/Programs/Python/Python310/lib/re.py?line=300'>301</a>\u001b[0m \u001b[39mif\u001b[39;00m \u001b[39mnot\u001b[39;00m sre_compile\u001b[39m.\u001b[39misstring(pattern):\n\u001b[0;32m    <a href='file:///c%3A/Users/ramab/AppData/Local/Programs/Python/Python310/lib/re.py?line=301'>302</a>\u001b[0m     \u001b[39mraise\u001b[39;00m \u001b[39mTypeError\u001b[39;00m(\u001b[39m\"\u001b[39m\u001b[39mfirst argument must be string or compiled pattern\u001b[39m\u001b[39m\"\u001b[39m)\n\u001b[1;32m--> <a href='file:///c%3A/Users/ramab/AppData/Local/Programs/Python/Python310/lib/re.py?line=302'>303</a>\u001b[0m p \u001b[39m=\u001b[39m sre_compile\u001b[39m.\u001b[39;49mcompile(pattern, flags)\n\u001b[0;32m    <a href='file:///c%3A/Users/ramab/AppData/Local/Programs/Python/Python310/lib/re.py?line=303'>304</a>\u001b[0m \u001b[39mif\u001b[39;00m \u001b[39mnot\u001b[39;00m (flags \u001b[39m&\u001b[39m DEBUG):\n\u001b[0;32m    <a href='file:///c%3A/Users/ramab/AppData/Local/Programs/Python/Python310/lib/re.py?line=304'>305</a>\u001b[0m     \u001b[39mif\u001b[39;00m \u001b[39mlen\u001b[39m(_cache) \u001b[39m>\u001b[39m\u001b[39m=\u001b[39m _MAXCACHE:\n\u001b[0;32m    <a href='file:///c%3A/Users/ramab/AppData/Local/Programs/Python/Python310/lib/re.py?line=305'>306</a>\u001b[0m         \u001b[39m# Drop the oldest item\u001b[39;00m\n",
      "File \u001b[1;32m~\\AppData\\Local\\Programs\\Python\\Python310\\lib\\sre_compile.py:768\u001b[0m, in \u001b[0;36mcompile\u001b[1;34m(p, flags)\u001b[0m\n\u001b[0;32m    <a href='file:///c%3A/Users/ramab/AppData/Local/Programs/Python/Python310/lib/sre_compile.py?line=764'>765</a>\u001b[0m \u001b[39melse\u001b[39;00m:\n\u001b[0;32m    <a href='file:///c%3A/Users/ramab/AppData/Local/Programs/Python/Python310/lib/sre_compile.py?line=765'>766</a>\u001b[0m     pattern \u001b[39m=\u001b[39m \u001b[39mNone\u001b[39;00m\n\u001b[1;32m--> <a href='file:///c%3A/Users/ramab/AppData/Local/Programs/Python/Python310/lib/sre_compile.py?line=767'>768</a>\u001b[0m code \u001b[39m=\u001b[39m _code(p, flags)\n\u001b[0;32m    <a href='file:///c%3A/Users/ramab/AppData/Local/Programs/Python/Python310/lib/sre_compile.py?line=769'>770</a>\u001b[0m \u001b[39mif\u001b[39;00m flags \u001b[39m&\u001b[39m SRE_FLAG_DEBUG:\n\u001b[0;32m    <a href='file:///c%3A/Users/ramab/AppData/Local/Programs/Python/Python310/lib/sre_compile.py?line=770'>771</a>\u001b[0m     \u001b[39mprint\u001b[39m()\n",
      "File \u001b[1;32m~\\AppData\\Local\\Programs\\Python\\Python310\\lib\\sre_compile.py:604\u001b[0m, in \u001b[0;36m_code\u001b[1;34m(p, flags)\u001b[0m\n\u001b[0;32m    <a href='file:///c%3A/Users/ramab/AppData/Local/Programs/Python/Python310/lib/sre_compile.py?line=600'>601</a>\u001b[0m code \u001b[39m=\u001b[39m []\n\u001b[0;32m    <a href='file:///c%3A/Users/ramab/AppData/Local/Programs/Python/Python310/lib/sre_compile.py?line=602'>603</a>\u001b[0m \u001b[39m# compile info block\u001b[39;00m\n\u001b[1;32m--> <a href='file:///c%3A/Users/ramab/AppData/Local/Programs/Python/Python310/lib/sre_compile.py?line=603'>604</a>\u001b[0m _compile_info(code, p, flags)\n\u001b[0;32m    <a href='file:///c%3A/Users/ramab/AppData/Local/Programs/Python/Python310/lib/sre_compile.py?line=605'>606</a>\u001b[0m \u001b[39m# compile the pattern\u001b[39;00m\n\u001b[0;32m    <a href='file:///c%3A/Users/ramab/AppData/Local/Programs/Python/Python310/lib/sre_compile.py?line=606'>607</a>\u001b[0m _compile(code, p\u001b[39m.\u001b[39mdata, flags)\n",
      "File \u001b[1;32m~\\AppData\\Local\\Programs\\Python\\Python310\\lib\\sre_compile.py:590\u001b[0m, in \u001b[0;36m_compile_info\u001b[1;34m(code, pattern, flags)\u001b[0m\n\u001b[0;32m    <a href='file:///c%3A/Users/ramab/AppData/Local/Programs/Python/Python310/lib/sre_compile.py?line=587'>588</a>\u001b[0m     code\u001b[39m.\u001b[39mextend(_generate_overlap_table(prefix))\n\u001b[0;32m    <a href='file:///c%3A/Users/ramab/AppData/Local/Programs/Python/Python310/lib/sre_compile.py?line=588'>589</a>\u001b[0m \u001b[39melif\u001b[39;00m charset:\n\u001b[1;32m--> <a href='file:///c%3A/Users/ramab/AppData/Local/Programs/Python/Python310/lib/sre_compile.py?line=589'>590</a>\u001b[0m     charset, hascased \u001b[39m=\u001b[39m _optimize_charset(charset)\n\u001b[0;32m    <a href='file:///c%3A/Users/ramab/AppData/Local/Programs/Python/Python310/lib/sre_compile.py?line=590'>591</a>\u001b[0m     \u001b[39massert\u001b[39;00m \u001b[39mnot\u001b[39;00m hascased\n\u001b[0;32m    <a href='file:///c%3A/Users/ramab/AppData/Local/Programs/Python/Python310/lib/sre_compile.py?line=591'>592</a>\u001b[0m     _compile_charset(charset, flags, code)\n",
      "File \u001b[1;32m~\\AppData\\Local\\Programs\\Python\\Python310\\lib\\sre_compile.py:280\u001b[0m, in \u001b[0;36m_optimize_charset\u001b[1;34m(charset, iscased, fixup, fixes)\u001b[0m\n\u001b[0;32m    <a href='file:///c%3A/Users/ramab/AppData/Local/Programs/Python/Python310/lib/sre_compile.py?line=277'>278</a>\u001b[0m out \u001b[39m=\u001b[39m []\n\u001b[0;32m    <a href='file:///c%3A/Users/ramab/AppData/Local/Programs/Python/Python310/lib/sre_compile.py?line=278'>279</a>\u001b[0m tail \u001b[39m=\u001b[39m []\n\u001b[1;32m--> <a href='file:///c%3A/Users/ramab/AppData/Local/Programs/Python/Python310/lib/sre_compile.py?line=279'>280</a>\u001b[0m charmap \u001b[39m=\u001b[39m \u001b[39mbytearray\u001b[39;49m(\u001b[39m256\u001b[39;49m)\n\u001b[0;32m    <a href='file:///c%3A/Users/ramab/AppData/Local/Programs/Python/Python310/lib/sre_compile.py?line=280'>281</a>\u001b[0m hascased \u001b[39m=\u001b[39m \u001b[39mFalse\u001b[39;00m\n\u001b[0;32m    <a href='file:///c%3A/Users/ramab/AppData/Local/Programs/Python/Python310/lib/sre_compile.py?line=281'>282</a>\u001b[0m \u001b[39mfor\u001b[39;00m op, av \u001b[39min\u001b[39;00m charset:\n",
      "\u001b[1;31mKeyboardInterrupt\u001b[0m: "
     ]
    }
   ],
   "source": [
    "list_jawaban = ['punai', 'danuh', 'tiket', 'subur', 'tibum', 'megak', 'sanca', 'burok', 'pagun', 'uring', 'saber', 'bubul', 'bursa', 'hibob', 'umrat', 'lanas', 'titit', 'lapir', 'cocor', 'gemak']\n",
    "jumlah_bertanya = {}\n",
    "\n",
    "for idx, jawaban in enumerate(list_jawaban):\n",
    "    print(f\"Permainan ke {idx} : {jawaban}\")\n",
    "    katla = Katla(daftar_kata)\n",
    "    game = GameKatla(daftar_kata, jawaban)\n",
    "    tanya = 0\n",
    "\n",
    "    tebakan = \"sarit\"\n",
    "    pola = game.evaluasi_tebakan(tebakan)\n",
    "    tanya += 1\n",
    "    print(f\"Tebakan:{tebakan};  Pola:{pola}\")\n",
    "\n",
    "    while pola != \"!!!!!\":\n",
    "        tebakan = katla.tebakan_selanjutnya(tebakan, pola)\n",
    "        pola    = game.evaluasi_tebakan(tebakan)\n",
    "        tanya  += 1 \n",
    "        print(f\"Tebakan:{tebakan};  Pola:{pola}\")\n",
    "\n",
    "    if tanya in jumlah_bertanya:\n",
    "        jumlah_bertanya[tanya] += 1\n",
    "    else:\n",
    "        jumlah_bertanya[tanya] = 1\n",
    "    print(f\"Selesai dalam {tanya} tebakan\\n\")\n"
   ]
  },
  {
   "cell_type": "markdown",
   "metadata": {},
   "source": [
    "# Pakai kata yang peluang jadi jawaban saja"
   ]
  },
  {
   "cell_type": "code",
   "execution_count": 6,
   "metadata": {},
   "outputs": [
    {
     "data": {
      "text/html": [
       "<div>\n",
       "<style scoped>\n",
       "    .dataframe tbody tr th:only-of-type {\n",
       "        vertical-align: middle;\n",
       "    }\n",
       "\n",
       "    .dataframe tbody tr th {\n",
       "        vertical-align: top;\n",
       "    }\n",
       "\n",
       "    .dataframe thead th {\n",
       "        text-align: right;\n",
       "    }\n",
       "</style>\n",
       "<table border=\"1\" class=\"dataframe\">\n",
       "  <thead>\n",
       "    <tr style=\"text-align: right;\">\n",
       "      <th></th>\n",
       "      <th>tanya</th>\n",
       "      <th>banyaknya</th>\n",
       "    </tr>\n",
       "  </thead>\n",
       "  <tbody>\n",
       "    <tr>\n",
       "      <th>3</th>\n",
       "      <td>2</td>\n",
       "      <td>1</td>\n",
       "    </tr>\n",
       "    <tr>\n",
       "      <th>2</th>\n",
       "      <td>3</td>\n",
       "      <td>4</td>\n",
       "    </tr>\n",
       "    <tr>\n",
       "      <th>0</th>\n",
       "      <td>4</td>\n",
       "      <td>9</td>\n",
       "    </tr>\n",
       "    <tr>\n",
       "      <th>1</th>\n",
       "      <td>5</td>\n",
       "      <td>5</td>\n",
       "    </tr>\n",
       "    <tr>\n",
       "      <th>4</th>\n",
       "      <td>8</td>\n",
       "      <td>1</td>\n",
       "    </tr>\n",
       "  </tbody>\n",
       "</table>\n",
       "</div>"
      ],
      "text/plain": [
       "   tanya  banyaknya\n",
       "3      2          1\n",
       "2      3          4\n",
       "0      4          9\n",
       "1      5          5\n",
       "4      8          1"
      ]
     },
     "metadata": {},
     "output_type": "display_data"
    },
    {
     "data": {
      "image/png": "[encoded data removed]",
      "text/plain": [
       "<Figure size 432x288 with 1 Axes>"
      ]
     },
     "metadata": {
      "needs_background": "light"
     },
     "output_type": "display_data"
    }
   ],
   "source": [
    "df = pd.DataFrame({'tanya':jumlah_bertanya.keys(), 'banyaknya':jumlah_bertanya.values()}).sort_values(by='tanya')\n",
    "display(df)\n",
    "\n",
    "sns.barplot(x=df['tanya'], y=df['banyaknya']);"
   ]
  },
  {
   "cell_type": "markdown",
   "metadata": {},
   "source": [
    "# Pakai semua daftar kata tiap nebak"
   ]
  },
  {
   "cell_type": "code",
   "execution_count": null,
   "metadata": {},
   "outputs": [
    {
     "data": {
      "text/html": [
       "<div>\n",
       "<style scoped>\n",
       "    .dataframe tbody tr th:only-of-type {\n",
       "        vertical-align: middle;\n",
       "    }\n",
       "\n",
       "    .dataframe tbody tr th {\n",
       "        vertical-align: top;\n",
       "    }\n",
       "\n",
       "    .dataframe thead th {\n",
       "        text-align: right;\n",
       "    }\n",
       "</style>\n",
       "<table border=\"1\" class=\"dataframe\">\n",
       "  <thead>\n",
       "    <tr style=\"text-align: right;\">\n",
       "      <th></th>\n",
       "      <th>tanya</th>\n",
       "      <th>banyaknya</th>\n",
       "    </tr>\n",
       "  </thead>\n",
       "  <tbody>\n",
       "    <tr>\n",
       "      <th>4</th>\n",
       "      <td>3</td>\n",
       "      <td>3</td>\n",
       "    </tr>\n",
       "    <tr>\n",
       "      <th>3</th>\n",
       "      <td>4</td>\n",
       "      <td>5</td>\n",
       "    </tr>\n",
       "    <tr>\n",
       "      <th>1</th>\n",
       "      <td>5</td>\n",
       "      <td>6</td>\n",
       "    </tr>\n",
       "    <tr>\n",
       "      <th>5</th>\n",
       "      <td>6</td>\n",
       "      <td>5</td>\n",
       "    </tr>\n",
       "    <tr>\n",
       "      <th>0</th>\n",
       "      <td>7</td>\n",
       "      <td>4</td>\n",
       "    </tr>\n",
       "    <tr>\n",
       "      <th>2</th>\n",
       "      <td>8</td>\n",
       "      <td>3</td>\n",
       "    </tr>\n",
       "  </tbody>\n",
       "</table>\n",
       "</div>"
      ],
      "text/plain": [
       "   tanya  banyaknya\n",
       "4      3          3\n",
       "3      4          5\n",
       "1      5          6\n",
       "5      6          5\n",
       "0      7          4\n",
       "2      8          3"
      ]
     },
     "metadata": {},
     "output_type": "display_data"
    },
    {
     "data": {
      "image/png": "[encoded data removed]",
      "text/plain": [
       "<Figure size 432x288 with 1 Axes>"
      ]
     },
     "metadata": {
      "needs_background": "light"
     },
     "output_type": "display_data"
    }
   ],
   "source": [
    "df = pd.DataFrame({'tanya':jumlah_bertanya.keys(), 'banyaknya':jumlah_bertanya.values()}).sort_values(by='tanya')\n",
    "df['banyaknya'] = df['banyaknya'].apply(lambda x:x+1)\n",
    "display(df)\n",
    "\n",
    "sns.barplot(x=df['tanya'], y=df['banyaknya']);"
   ]
  }
 ],
 "metadata": {
  "interpreter": {
   "hash": "9d1374e53a6092f852bc6f80edf7bb9a8943712eabdd7fdf0a60802782b29ee3"
  },
  "kernelspec": {
   "display_name": "Python 3.10.4 64-bit",
   "language": "python",
   "name": "python3"
  },
  "language_info": {
   "codemirror_mode": {
    "name": "ipython",
    "version": 3
   },
   "file_extension": ".py",
   "mimetype": "text/x-python",
   "name": "python",
   "nbconvert_exporter": "python",
   "pygments_lexer": "ipython3",
   "version": "3.10.4"
  },
  "orig_nbformat": 4
 },
 "nbformat": 4,
 "nbformat_minor": 2
}
