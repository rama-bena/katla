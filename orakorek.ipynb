{
 "cells": [
  {
   "cell_type": "markdown",
   "metadata": {},
   "source": [
    "# Import"
   ]
  },
  {
   "cell_type": "code",
   "execution_count": 1,
   "metadata": {},
   "outputs": [],
   "source": [
    "from libraryBantuan.tree import DecisionTree\n",
    "from libraryBantuan.gameKatla import GameKatla\n",
    "import numpy as np\n",
    "import pandas as pd\n",
    "from collections import Counter\n",
    "import random\n",
    "import re\n",
    "import matplotlib.pyplot as plt\n",
    "import seaborn as sns\n",
    "\n",
    "# Library Bantuan\n",
    "\n",
    "from IPython.display import display\n",
    "from tqdm import tqdm\n",
    "from pprint import pprint\n",
    "import time\n",
    "import warnings\n",
    "warnings.filterwarnings('ignore')\n",
    "\n",
    "\n",
    "# Library Sendiri\n",
    "\n",
    "# Konstanta\n",
    "PATH_FILE_TEXT = \"D:\\\\Rama Nitip\\\\python\\\\katla\\\\file text\\\\\"\n"
   ]
  },
  {
   "cell_type": "markdown",
   "metadata": {},
   "source": [
    "# Baca Data"
   ]
  },
  {
   "cell_type": "code",
   "execution_count": 2,
   "metadata": {},
   "outputs": [
    {
     "name": "stdout",
     "output_type": "stream",
     "text": [
      "Banyak Kata : 8314\n"
     ]
    }
   ],
   "source": [
    "daftar_kata = list(pd.read_csv(\n",
    "    PATH_FILE_TEXT + 'lima huruf katla.csv', header=None)[0])\n",
    "list_jawaban = random.choices(daftar_kata, k=20)\n",
    "print(f\"Banyak Kata : {len(daftar_kata)}\")\n"
   ]
  },
  {
   "cell_type": "markdown",
   "metadata": {},
   "source": [
    "# cari jawaban semua kata"
   ]
  },
  {
   "cell_type": "code",
   "execution_count": 3,
   "metadata": {},
   "outputs": [],
   "source": [
    "DT = DecisionTree(PATH_FILE_TEXT+\"semua kata.dictionary\")\n",
    "# jumlah_bertanya = {i: (0, []) for i in range(1, 14)}\n"
   ]
  },
  {
   "cell_type": "code",
   "execution_count": 4,
   "metadata": {},
   "outputs": [],
   "source": [
    "jumlah_bertanya = {}"
   ]
  },
  {
   "cell_type": "code",
   "execution_count": 5,
   "metadata": {},
   "outputs": [],
   "source": [
    "for jawaban in daftar_kata:\n",
    "    DT.now = DT.root\n",
    "    pola = DT.getPola(DT.root.tebakan, jawaban)\n",
    "    tanya = 1\n",
    "\n",
    "    while pola!='!!!!!':\n",
    "        tebakan = DT.kata_berikutnya(pola)\n",
    "        pola    = DT.getPola(tebakan, jawaban)\n",
    "        tanya  += 1\n",
    "    \n",
    "    if tanya in jumlah_bertanya:\n",
    "        jumlah_bertanya[tanya] = (jumlah_bertanya[tanya][0]+1, jumlah_bertanya[tanya][1]+[jawaban])\n",
    "    else:\n",
    "        jumlah_bertanya[tanya] = (1, [jawaban])\n"
   ]
  },
  {
   "cell_type": "code",
   "execution_count": 6,
   "metadata": {},
   "outputs": [
    {
     "data": {
      "text/html": [
       "<div>\n",
       "<style scoped>\n",
       "    .dataframe tbody tr th:only-of-type {\n",
       "        vertical-align: middle;\n",
       "    }\n",
       "\n",
       "    .dataframe tbody tr th {\n",
       "        vertical-align: top;\n",
       "    }\n",
       "\n",
       "    .dataframe thead th {\n",
       "        text-align: right;\n",
       "    }\n",
       "</style>\n",
       "<table border=\"1\" class=\"dataframe\">\n",
       "  <thead>\n",
       "    <tr style=\"text-align: right;\">\n",
       "      <th></th>\n",
       "      <th>tanya</th>\n",
       "      <th>banyaknya</th>\n",
       "      <th>daftar kata</th>\n",
       "    </tr>\n",
       "  </thead>\n",
       "  <tbody>\n",
       "    <tr>\n",
       "      <th>7</th>\n",
       "      <td>1</td>\n",
       "      <td>1</td>\n",
       "      <td>[sarit]</td>\n",
       "    </tr>\n",
       "    <tr>\n",
       "      <th>4</th>\n",
       "      <td>2</td>\n",
       "      <td>101</td>\n",
       "      <td>[adpis, afkir, afrit, arena, arsap, artik, art...</td>\n",
       "    </tr>\n",
       "    <tr>\n",
       "      <th>2</th>\n",
       "      <td>3</td>\n",
       "      <td>2179</td>\n",
       "      <td>[abdis, abjat, ablur, abnus, abras, abrin, abr...</td>\n",
       "    </tr>\n",
       "    <tr>\n",
       "      <th>0</th>\n",
       "      <td>4</td>\n",
       "      <td>4361</td>\n",
       "      <td>[abadi, abaka, abate, abawi, abaya, abbas, abd...</td>\n",
       "    </tr>\n",
       "    <tr>\n",
       "      <th>1</th>\n",
       "      <td>5</td>\n",
       "      <td>1428</td>\n",
       "      <td>[abang, abdas, abian, abing, abung, abyad, aca...</td>\n",
       "    </tr>\n",
       "    <tr>\n",
       "      <th>3</th>\n",
       "      <td>6</td>\n",
       "      <td>214</td>\n",
       "      <td>[acang, agung, ajang, ajian, ajung, apung, awa...</td>\n",
       "    </tr>\n",
       "    <tr>\n",
       "      <th>5</th>\n",
       "      <td>7</td>\n",
       "      <td>29</td>\n",
       "      <td>[anang, babak, bajak, bakak, bazar, celar, gaf...</td>\n",
       "    </tr>\n",
       "    <tr>\n",
       "      <th>6</th>\n",
       "      <td>8</td>\n",
       "      <td>1</td>\n",
       "      <td>[gawar]</td>\n",
       "    </tr>\n",
       "  </tbody>\n",
       "</table>\n",
       "</div>"
      ],
      "text/plain": [
       "   tanya  banyaknya                                        daftar kata\n",
       "7      1          1                                            [sarit]\n",
       "4      2        101  [adpis, afkir, afrit, arena, arsap, artik, art...\n",
       "2      3       2179  [abdis, abjat, ablur, abnus, abras, abrin, abr...\n",
       "0      4       4361  [abadi, abaka, abate, abawi, abaya, abbas, abd...\n",
       "1      5       1428  [abang, abdas, abian, abing, abung, abyad, aca...\n",
       "3      6        214  [acang, agung, ajang, ajian, ajung, apung, awa...\n",
       "5      7         29  [anang, babak, bajak, bakak, bazar, celar, gaf...\n",
       "6      8          1                                            [gawar]"
      ]
     },
     "metadata": {},
     "output_type": "display_data"
    },
    {
     "data": {
      "text/plain": [
       "<AxesSubplot:xlabel='tanya', ylabel='banyaknya'>"
      ]
     },
     "execution_count": 6,
     "metadata": {},
     "output_type": "execute_result"
    },
    {
     "data": {
      "image/png": "[encoded data removed]",
      "text/plain": [
       "<Figure size 432x288 with 1 Axes>"
      ]
     },
     "metadata": {
      "needs_background": "light"
     },
     "output_type": "display_data"
    }
   ],
   "source": [
    "tanya = jumlah_bertanya.keys()\n",
    "banyaknya = [i[0] for i in list(jumlah_bertanya.values())]\n",
    "kata = [i[1] for i in list(jumlah_bertanya.values())]\n",
    "\n",
    "df = pd.DataFrame({'tanya': tanya, 'banyaknya': banyaknya,\n",
    "                  'daftar kata': kata}).sort_values(by='tanya')\n",
    "display(df)\n",
    "\n",
    "sns.barplot(x=df['tanya'], y=df['banyaknya'])\n"
   ]
  },
  {
   "cell_type": "code",
   "execution_count": 69,
   "metadata": {},
   "outputs": [
    {
     "name": "stdout",
     "output_type": "stream",
     "text": [
      "['betis', 'etnis', 'fetis', 'getis', 'gutis', 'jetis', 'ketis', 'letis', 'lotis', 'optis', 'petis', 'pitis', 'tekis', 'telis', 'tenis', 'tepis', 'tesis', 'tetis', 'tipis', 'tisik', 'tisis', 'titis', 'tulis', 'tumis']\n",
      "['tulis']\n"
     ]
    },
    {
     "data": {
      "text/plain": [
       "'tulis'"
      ]
     },
     "execution_count": 69,
     "metadata": {},
     "output_type": "execute_result"
    }
   ],
   "source": [
    "DT.kata_berikutnya(\"?**!?\", tampilkan_kandidat=True, awal=True)\n",
    "DT.kata_berikutnya(\"?*??*\", tampilkan_kandidat=True)\n",
    "# DT.kata_berikutnya(\"?**?*\", tampilkan_kandidat=True)"
   ]
  },
  {
   "cell_type": "markdown",
   "metadata": {},
   "source": [
    "# Pakai kata yang peluang jadi jawaban saja"
   ]
  },
  {
   "cell_type": "code",
   "execution_count": null,
   "metadata": {},
   "outputs": [
    {
     "data": {
      "text/html": [
       "<div>\n",
       "<style scoped>\n",
       "    .dataframe tbody tr th:only-of-type {\n",
       "        vertical-align: middle;\n",
       "    }\n",
       "\n",
       "    .dataframe tbody tr th {\n",
       "        vertical-align: top;\n",
       "    }\n",
       "\n",
       "    .dataframe thead th {\n",
       "        text-align: right;\n",
       "    }\n",
       "</style>\n",
       "<table border=\"1\" class=\"dataframe\">\n",
       "  <thead>\n",
       "    <tr style=\"text-align: right;\">\n",
       "      <th></th>\n",
       "      <th>tanya</th>\n",
       "      <th>banyaknya</th>\n",
       "      <th>daftar kata</th>\n",
       "    </tr>\n",
       "  </thead>\n",
       "  <tbody>\n",
       "    <tr>\n",
       "      <th>0</th>\n",
       "      <td>1</td>\n",
       "      <td>1</td>\n",
       "      <td>[sarit]</td>\n",
       "    </tr>\n",
       "    <tr>\n",
       "      <th>1</th>\n",
       "      <td>2</td>\n",
       "      <td>197</td>\n",
       "      <td>[abrip, adpis, afkir, afrit, aktip, albit, amb...</td>\n",
       "    </tr>\n",
       "    <tr>\n",
       "      <th>2</th>\n",
       "      <td>3</td>\n",
       "      <td>2130</td>\n",
       "      <td>[abdis, ablur, abnus, abras, abrin, absen, abs...</td>\n",
       "    </tr>\n",
       "    <tr>\n",
       "      <th>3</th>\n",
       "      <td>4</td>\n",
       "      <td>3310</td>\n",
       "      <td>[abadi, abaka, abate, abawi, abaya, abbas, abd...</td>\n",
       "    </tr>\n",
       "    <tr>\n",
       "      <th>4</th>\n",
       "      <td>5</td>\n",
       "      <td>1620</td>\n",
       "      <td>[abang, abdas, abrar, abuza, abyad, acawi, aci...</td>\n",
       "    </tr>\n",
       "    <tr>\n",
       "      <th>5</th>\n",
       "      <td>6</td>\n",
       "      <td>623</td>\n",
       "      <td>[acang, adzan, afian, ajing, ajuan, ajung, amp...</td>\n",
       "    </tr>\n",
       "    <tr>\n",
       "      <th>6</th>\n",
       "      <td>7</td>\n",
       "      <td>265</td>\n",
       "      <td>[ahang, ajian, amung, anyar, babar, babas, bab...</td>\n",
       "    </tr>\n",
       "    <tr>\n",
       "      <th>7</th>\n",
       "      <td>8</td>\n",
       "      <td>103</td>\n",
       "      <td>[agung, ajang, anian, baban, bahar, bapak, bay...</td>\n",
       "    </tr>\n",
       "    <tr>\n",
       "      <th>8</th>\n",
       "      <td>9</td>\n",
       "      <td>38</td>\n",
       "      <td>[anang, apung, bawak, bayan, bayar, cacar, gah...</td>\n",
       "    </tr>\n",
       "    <tr>\n",
       "      <th>9</th>\n",
       "      <td>10</td>\n",
       "      <td>17</td>\n",
       "      <td>[awang, babak, bazar, capar, lawak, lelas, mar...</td>\n",
       "    </tr>\n",
       "    <tr>\n",
       "      <th>10</th>\n",
       "      <td>11</td>\n",
       "      <td>8</td>\n",
       "      <td>[bayak, layak, sawar, sesak, sewat, tawak, wel...</td>\n",
       "    </tr>\n",
       "    <tr>\n",
       "      <th>11</th>\n",
       "      <td>12</td>\n",
       "      <td>1</td>\n",
       "      <td>[sesat]</td>\n",
       "    </tr>\n",
       "    <tr>\n",
       "      <th>12</th>\n",
       "      <td>13</td>\n",
       "      <td>1</td>\n",
       "      <td>[setat]</td>\n",
       "    </tr>\n",
       "  </tbody>\n",
       "</table>\n",
       "</div>"
      ],
      "text/plain": [
       "    tanya  banyaknya                                        daftar kata\n",
       "0       1          1                                            [sarit]\n",
       "1       2        197  [abrip, adpis, afkir, afrit, aktip, albit, amb...\n",
       "2       3       2130  [abdis, ablur, abnus, abras, abrin, absen, abs...\n",
       "3       4       3310  [abadi, abaka, abate, abawi, abaya, abbas, abd...\n",
       "4       5       1620  [abang, abdas, abrar, abuza, abyad, acawi, aci...\n",
       "5       6        623  [acang, adzan, afian, ajing, ajuan, ajung, amp...\n",
       "6       7        265  [ahang, ajian, amung, anyar, babar, babas, bab...\n",
       "7       8        103  [agung, ajang, anian, baban, bahar, bapak, bay...\n",
       "8       9         38  [anang, apung, bawak, bayan, bayar, cacar, gah...\n",
       "9      10         17  [awang, babak, bazar, capar, lawak, lelas, mar...\n",
       "10     11          8  [bayak, layak, sawar, sesak, sewat, tawak, wel...\n",
       "11     12          1                                            [sesat]\n",
       "12     13          1                                            [setat]"
      ]
     },
     "metadata": {},
     "output_type": "display_data"
    },
    {
     "data": {
      "image/png": "[encoded data removed]",
      "text/plain": [
       "<Figure size 432x288 with 1 Axes>"
      ]
     },
     "metadata": {
      "needs_background": "light"
     },
     "output_type": "display_data"
    }
   ],
   "source": [
    "tanya = jumlah_bertanya.keys()\n",
    "banyaknya = [i[0] for i in list(jumlah_bertanya.values())]\n",
    "kata = [i[1] for i in list(jumlah_bertanya.values())]\n",
    "\n",
    "df = pd.DataFrame({'tanya': tanya, 'banyaknya': banyaknya,\n",
    "                  'daftar kata': kata}).sort_values(by='tanya')\n",
    "display(df)\n",
    "\n",
    "sns.barplot(x=df['tanya'], y=df['banyaknya'])\n"
   ]
  },
  {
   "cell_type": "markdown",
   "metadata": {},
   "source": [
    "# Huruf yang paling banyak muncul"
   ]
  },
  {
   "cell_type": "code",
   "execution_count": null,
   "metadata": {},
   "outputs": [
    {
     "data": {
      "text/plain": [
       "['a', 'e', 'i', 'u', 'k', 'r', 't', 's', 'l', 'n']"
      ]
     },
     "execution_count": 51,
     "metadata": {},
     "output_type": "execute_result"
    }
   ],
   "source": [
    "all_kata = ''.join(daftar_kata)\n",
    "huruf_sering = [huruf[0] for huruf in Counter(all_kata).most_common(10)]\n",
    "huruf_sering\n"
   ]
  },
  {
   "cell_type": "code",
   "execution_count": null,
   "metadata": {},
   "outputs": [
    {
     "data": {
      "text/plain": [
       "{'e', 'i', 'k', 'l', 'n', 's', 't', 'u'}"
      ]
     },
     "execution_count": 42,
     "metadata": {},
     "output_type": "execute_result"
    }
   ],
   "source": [
    "huruf_sering.difference(set(['a', 'b', 'r', 'm']))\n"
   ]
  },
  {
   "cell_type": "markdown",
   "metadata": {},
   "source": [
    "# Coba"
   ]
  },
  {
   "cell_type": "code",
   "execution_count": null,
   "metadata": {},
   "outputs": [
    {
     "data": {
      "text/html": [
       "<div>\n",
       "<style scoped>\n",
       "    .dataframe tbody tr th:only-of-type {\n",
       "        vertical-align: middle;\n",
       "    }\n",
       "\n",
       "    .dataframe tbody tr th {\n",
       "        vertical-align: top;\n",
       "    }\n",
       "\n",
       "    .dataframe thead th {\n",
       "        text-align: right;\n",
       "    }\n",
       "</style>\n",
       "<table border=\"1\" class=\"dataframe\">\n",
       "  <thead>\n",
       "    <tr style=\"text-align: right;\">\n",
       "      <th></th>\n",
       "      <th>kata 1</th>\n",
       "      <th>kata 2</th>\n",
       "      <th>banyak</th>\n",
       "    </tr>\n",
       "  </thead>\n",
       "  <tbody>\n",
       "    <tr>\n",
       "      <th>0</th>\n",
       "      <td>abdis</td>\n",
       "      <td>ceguk</td>\n",
       "      <td>6</td>\n",
       "    </tr>\n",
       "    <tr>\n",
       "      <th>1</th>\n",
       "      <td>abdis</td>\n",
       "      <td>cekuh</td>\n",
       "      <td>6</td>\n",
       "    </tr>\n",
       "    <tr>\n",
       "      <th>2</th>\n",
       "      <td>abdis</td>\n",
       "      <td>cekup</td>\n",
       "      <td>6</td>\n",
       "    </tr>\n",
       "    <tr>\n",
       "      <th>3</th>\n",
       "      <td>abdis</td>\n",
       "      <td>cekur</td>\n",
       "      <td>7</td>\n",
       "    </tr>\n",
       "    <tr>\n",
       "      <th>4</th>\n",
       "      <td>abdis</td>\n",
       "      <td>cekut</td>\n",
       "      <td>7</td>\n",
       "    </tr>\n",
       "    <tr>\n",
       "      <th>...</th>\n",
       "      <td>...</td>\n",
       "      <td>...</td>\n",
       "      <td>...</td>\n",
       "    </tr>\n",
       "    <tr>\n",
       "      <th>1146989</th>\n",
       "      <td>yurin</td>\n",
       "      <td>zelot</td>\n",
       "      <td>7</td>\n",
       "    </tr>\n",
       "    <tr>\n",
       "      <th>1146990</th>\n",
       "      <td>yurin</td>\n",
       "      <td>zohal</td>\n",
       "      <td>6</td>\n",
       "    </tr>\n",
       "    <tr>\n",
       "      <th>1146991</th>\n",
       "      <td>yuris</td>\n",
       "      <td>zelot</td>\n",
       "      <td>7</td>\n",
       "    </tr>\n",
       "    <tr>\n",
       "      <th>1146992</th>\n",
       "      <td>yuris</td>\n",
       "      <td>zohal</td>\n",
       "      <td>6</td>\n",
       "    </tr>\n",
       "    <tr>\n",
       "      <th>1146993</th>\n",
       "      <td>yuris</td>\n",
       "      <td>zonal</td>\n",
       "      <td>7</td>\n",
       "    </tr>\n",
       "  </tbody>\n",
       "</table>\n",
       "<p>1146994 rows × 3 columns</p>\n",
       "</div>"
      ],
      "text/plain": [
       "        kata 1 kata 2  banyak\n",
       "0        abdis  ceguk       6\n",
       "1        abdis  cekuh       6\n",
       "2        abdis  cekup       6\n",
       "3        abdis  cekur       7\n",
       "4        abdis  cekut       7\n",
       "...        ...    ...     ...\n",
       "1146989  yurin  zelot       7\n",
       "1146990  yurin  zohal       6\n",
       "1146991  yuris  zelot       7\n",
       "1146992  yuris  zohal       6\n",
       "1146993  yuris  zonal       7\n",
       "\n",
       "[1146994 rows x 3 columns]"
      ]
     },
     "execution_count": 44,
     "metadata": {},
     "output_type": "execute_result"
    }
   ],
   "source": [
    "df = [kata for kata in daftar_kata if len(set(kata)) == 5]\n",
    "(list_kata1, list_kata2, banyak_sama) = ([], [], [])\n",
    "\n",
    "for i1 in range(len(df)-1):\n",
    "    for i2 in range(i1+1, len(df)):\n",
    "        kata1 = df[i1]\n",
    "        kata2 = df[i2]\n",
    "        if len(set(kata1).union(set(kata2))) == 10:\n",
    "            list_kata1.append(kata1)\n",
    "            list_kata2.append(kata2)\n",
    "            banyak_sama.append(len(huruf_sering.intersection(set(kata1))) +\n",
    "                               len(huruf_sering.intersection(set(kata2)))\n",
    "                               )\n",
    "\n",
    "\n",
    "seluruh_hasil = pd.DataFrame(\n",
    "    {'kata 1': list_kata1, 'kata 2': list_kata2, 'banyak': banyak_sama})\n",
    "seluruh_hasil\n"
   ]
  },
  {
   "cell_type": "code",
   "execution_count": null,
   "metadata": {},
   "outputs": [
    {
     "data": {
      "text/html": [
       "<div>\n",
       "<style scoped>\n",
       "    .dataframe tbody tr th:only-of-type {\n",
       "        vertical-align: middle;\n",
       "    }\n",
       "\n",
       "    .dataframe tbody tr th {\n",
       "        vertical-align: top;\n",
       "    }\n",
       "\n",
       "    .dataframe thead th {\n",
       "        text-align: right;\n",
       "    }\n",
       "</style>\n",
       "<table border=\"1\" class=\"dataframe\">\n",
       "  <thead>\n",
       "    <tr style=\"text-align: right;\">\n",
       "      <th></th>\n",
       "      <th>kata 1</th>\n",
       "      <th>kata 2</th>\n",
       "      <th>banyak</th>\n",
       "    </tr>\n",
       "  </thead>\n",
       "  <tbody>\n",
       "    <tr>\n",
       "      <th>907400</th>\n",
       "      <td>lekas</td>\n",
       "      <td>rutin</td>\n",
       "      <td>10</td>\n",
       "    </tr>\n",
       "    <tr>\n",
       "      <th>926374</th>\n",
       "      <td>likat</td>\n",
       "      <td>senur</td>\n",
       "      <td>10</td>\n",
       "    </tr>\n",
       "    <tr>\n",
       "      <th>916858</th>\n",
       "      <td>lerik</td>\n",
       "      <td>nasut</td>\n",
       "      <td>10</td>\n",
       "    </tr>\n",
       "    <tr>\n",
       "      <th>457101</th>\n",
       "      <td>eksil</td>\n",
       "      <td>rutan</td>\n",
       "      <td>10</td>\n",
       "    </tr>\n",
       "    <tr>\n",
       "      <th>919792</th>\n",
       "      <td>letak</td>\n",
       "      <td>unsri</td>\n",
       "      <td>10</td>\n",
       "    </tr>\n",
       "    <tr>\n",
       "      <th>...</th>\n",
       "      <td>...</td>\n",
       "      <td>...</td>\n",
       "      <td>...</td>\n",
       "    </tr>\n",
       "    <tr>\n",
       "      <th>374513</th>\n",
       "      <td>decup</td>\n",
       "      <td>mboja</td>\n",
       "      <td>3</td>\n",
       "    </tr>\n",
       "    <tr>\n",
       "      <th>511828</th>\n",
       "      <td>fjord</td>\n",
       "      <td>gempa</td>\n",
       "      <td>3</td>\n",
       "    </tr>\n",
       "    <tr>\n",
       "      <th>186295</th>\n",
       "      <td>bogem</td>\n",
       "      <td>fidah</td>\n",
       "      <td>3</td>\n",
       "    </tr>\n",
       "    <tr>\n",
       "      <th>531379</th>\n",
       "      <td>fyord</td>\n",
       "      <td>gibah</td>\n",
       "      <td>3</td>\n",
       "    </tr>\n",
       "    <tr>\n",
       "      <th>601516</th>\n",
       "      <td>gocap</td>\n",
       "      <td>jimbe</td>\n",
       "      <td>3</td>\n",
       "    </tr>\n",
       "  </tbody>\n",
       "</table>\n",
       "<p>1146994 rows × 3 columns</p>\n",
       "</div>"
      ],
      "text/plain": [
       "       kata 1 kata 2  banyak\n",
       "907400  lekas  rutin      10\n",
       "926374  likat  senur      10\n",
       "916858  lerik  nasut      10\n",
       "457101  eksil  rutan      10\n",
       "919792  letak  unsri      10\n",
       "...       ...    ...     ...\n",
       "374513  decup  mboja       3\n",
       "511828  fjord  gempa       3\n",
       "186295  bogem  fidah       3\n",
       "531379  fyord  gibah       3\n",
       "601516  gocap  jimbe       3\n",
       "\n",
       "[1146994 rows x 3 columns]"
      ]
     },
     "execution_count": 46,
     "metadata": {},
     "output_type": "execute_result"
    }
   ],
   "source": [
    "seluruh_hasil.sort_values(by='banyak', ascending=False)\n"
   ]
  },
  {
   "cell_type": "markdown",
   "metadata": {},
   "source": [
    "# PERBAIKI TREE"
   ]
  },
  {
   "cell_type": "code",
   "execution_count": null,
   "metadata": {},
   "outputs": [],
   "source": [
    "def cari_semua_kemungkinan_pola():\n",
    "    T = {'0': '*', '1': '?', '2': '!'}\n",
    "    list_pola = []\n",
    "    for number in range(3**5):             # total kemungkinan pola : 3 pangkat 5\n",
    "        ternary = np.base_repr(number, base=3)\n",
    "        # kasi angka 0 di depan biar sampai 5 digit\n",
    "        pola = str(ternary).zfill(5)\n",
    "        list_pola.append(''.join([T[i] for i in pola]))\n",
    "    return list_pola\n",
    "\n",
    "\n",
    "semua_pola = cari_semua_kemungkinan_pola()\n"
   ]
  },
  {
   "cell_type": "code",
   "execution_count": null,
   "metadata": {},
   "outputs": [],
   "source": [
    "def kandidat(tebakan, pola, daf_kata):\n",
    "    pola_regex = [r\"\\w\"]*5\n",
    "    huruf_tanda_tanya = [tebakan[i] for i in range(5) if pola[i] == '?']\n",
    "    huruf_bintang = ''.join([tebakan[i] for i in range(5) if (\n",
    "        pola[i] == '*') & (tebakan[i] not in huruf_tanda_tanya)])\n",
    "\n",
    "    # Membentuk pola regex\n",
    "    for i, p in enumerate(pola):\n",
    "        if p == '!':\n",
    "            pola_regex[i] = tebakan[i]\n",
    "        elif p == '?':\n",
    "            pola_regex[i] = f\"[^ {tebakan[i]+huruf_bintang}]\"\n",
    "        elif p == '*':\n",
    "            pola_regex[i] = f\"[^ {huruf_bintang}]\"\n",
    "\n",
    "    pola_regex = r\"\".join(pola_regex)\n",
    "    daf_kata = re.findall(pola_regex, ' '.join(daf_kata))\n",
    "\n",
    "    # Mengambil kata2 yang ada huruf ?\n",
    "    list_harus_ada_huruf = [tebakan[i] for i in range(5) if pola[i] == '?']\n",
    "    new_daf_kata = []\n",
    "    for kata in daf_kata:\n",
    "        kata_tanpa_benar = [kata[i] for i in range(5) if pola[i] != '!']\n",
    "        sudah_benar = True\n",
    "        for harus_ada_huruf in list_harus_ada_huruf:\n",
    "            if harus_ada_huruf in kata_tanpa_benar:\n",
    "                kata_tanpa_benar.remove(harus_ada_huruf)\n",
    "            else:\n",
    "                sudah_benar = False\n",
    "                break\n",
    "        if sudah_benar:\n",
    "            new_daf_kata.append(kata)\n",
    "    return new_daf_kata\n"
   ]
  },
  {
   "cell_type": "code",
   "execution_count": null,
   "metadata": {},
   "outputs": [],
   "source": [
    "def getPola(tebakan, jawaban):\n",
    "    list_jawaban = []\n",
    "    respon_pola = ['*']*5\n",
    "    for i in range(5):\n",
    "        if jawaban[i] == tebakan[i]:\n",
    "            respon_pola[i] = '!'\n",
    "        else:\n",
    "            list_jawaban.append(jawaban[i])\n",
    "\n",
    "    # yellow check / ada tapi salah tempat\n",
    "    for i in range(5):\n",
    "        if respon_pola[i] == '!':\n",
    "            continue\n",
    "        if tebakan[i] in list_jawaban:\n",
    "            respon_pola[i] = '?'\n",
    "            list_jawaban.remove(tebakan[i])\n",
    "    return ''.join(respon_pola)\n"
   ]
  },
  {
   "cell_type": "code",
   "execution_count": null,
   "metadata": {},
   "outputs": [],
   "source": [
    "def cari_kata_terbaik(daftar_kata_split, daftar_kata):\n",
    "    def P(n):\n",
    "        return n / len(daftar_kata)\n",
    "\n",
    "    def impurity(n):\n",
    "        return ((n-1) / n) if n != 0 else 0\n",
    "\n",
    "    hasil = (\"TIDAK ADA\", -10000)\n",
    "    new_daftar_kata_split = []\n",
    "    impurity_awal = impurity(len(daftar_kata))\n",
    "    my_set = set(''.join(daftar_kata))\n",
    "\n",
    "    # Cari kata terbaik\n",
    "    for kata in daftar_kata_split:\n",
    "        impurity_akhir = 0\n",
    "        # kalau tidak ada satupun huruf yg sama dengn daftar kandidat\n",
    "        if len(my_set.intersection(set(kata))) == 0:\n",
    "            continue\n",
    "\n",
    "        daftar_pola = {}\n",
    "\n",
    "        for kandidat_jawaban in daftar_kata:\n",
    "            pola = getPola(kata, kandidat_jawaban)\n",
    "            daftar_pola[pola] = daftar_pola[pola] + \\\n",
    "                1 if pola in daftar_pola else 1\n",
    "\n",
    "        for pola, n in daftar_pola.items():\n",
    "            impurity_akhir += P(n)*impurity(n)\n",
    "\n",
    "        information_gain = impurity_awal - impurity_akhir\n",
    "        if information_gain > hasil[1]:\n",
    "            hasil = (kata, information_gain)\n",
    "        new_daftar_kata_split.append(kata)\n",
    "    return hasil[0], new_daftar_kata_split\n"
   ]
  },
  {
   "cell_type": "code",
   "execution_count": null,
   "metadata": {},
   "outputs": [
    {
     "data": {
      "text/plain": [
       "'abrin'"
      ]
     },
     "execution_count": 12,
     "metadata": {},
     "output_type": "execute_result"
    }
   ],
   "source": [
    "cari_kata_terbaik(daftar_kata[:100], daftar_kata)\n"
   ]
  },
  {
   "cell_type": "code",
   "execution_count": null,
   "metadata": {},
   "outputs": [
    {
     "name": "stdout",
     "output_type": "stream",
     "text": [
      "1000\n"
     ]
    }
   ],
   "source": [
    "df_sample = random.choices(daftar_kata, k=1000)\n",
    "print(len(df_sample))\n"
   ]
  },
  {
   "cell_type": "code",
   "execution_count": 73,
   "metadata": {},
   "outputs": [
    {
     "ename": "TypeError",
     "evalue": "DecisionTree.cari_kata_terbaik() missing 1 required positional argument: 'daftar_kata'",
     "output_type": "error",
     "traceback": [
      "\u001b[1;31m---------------------------------------------------------------------------\u001b[0m",
      "\u001b[1;31mTypeError\u001b[0m                                 Traceback (most recent call last)",
      "\u001b[1;32md:\\Rama Nitip\\python\\katla\\orakorek.ipynb Cell 22'\u001b[0m in \u001b[0;36m<cell line: 2>\u001b[1;34m()\u001b[0m\n\u001b[0;32m      <a href='vscode-notebook-cell:/d%3A/Rama%20Nitip/python/katla/orakorek.ipynb#ch0000026?line=0'>1</a>\u001b[0m DT \u001b[39m=\u001b[39m DecisionTree()\n\u001b[1;32m----> <a href='vscode-notebook-cell:/d%3A/Rama%20Nitip/python/katla/orakorek.ipynb#ch0000026?line=1'>2</a>\u001b[0m DT\u001b[39m.\u001b[39;49mbuat_tree(df_sample, pakai_semua_daftar\u001b[39m=\u001b[39;49m\u001b[39mTrue\u001b[39;49;00m)\n",
      "File \u001b[1;32md:\\Rama Nitip\\python\\katla\\libraryBantuan\\tree.py:48\u001b[0m, in \u001b[0;36mDecisionTree.buat_tree\u001b[1;34m(self, daftar_kata, kata_root, pakai_semua_daftar)\u001b[0m\n\u001b[0;32m     <a href='file:///d%3A/Rama%20Nitip/python/katla/libraryBantuan/tree.py?line=45'>46</a>\u001b[0m \u001b[39mself\u001b[39m\u001b[39m.\u001b[39mpakai_semua_daftar \u001b[39m=\u001b[39m pakai_semua_daftar\n\u001b[0;32m     <a href='file:///d%3A/Rama%20Nitip/python/katla/libraryBantuan/tree.py?line=46'>47</a>\u001b[0m \u001b[39mif\u001b[39;00m kata_root \u001b[39m==\u001b[39m \u001b[39mNone\u001b[39;00m:\n\u001b[1;32m---> <a href='file:///d%3A/Rama%20Nitip/python/katla/libraryBantuan/tree.py?line=47'>48</a>\u001b[0m     kata_root \u001b[39m=\u001b[39m \u001b[39mself\u001b[39;49m\u001b[39m.\u001b[39;49mcari_kata_terbaik(daftar_kata)\n\u001b[0;32m     <a href='file:///d%3A/Rama%20Nitip/python/katla/libraryBantuan/tree.py?line=48'>49</a>\u001b[0m \u001b[39mself\u001b[39m\u001b[39m.\u001b[39mroot \u001b[39m=\u001b[39m \u001b[39mself\u001b[39m\u001b[39m.\u001b[39m__buat_tree(kata_root, daftar_kata, daftar_kata, \u001b[39m0\u001b[39m)\n\u001b[0;32m     <a href='file:///d%3A/Rama%20Nitip/python/katla/libraryBantuan/tree.py?line=49'>50</a>\u001b[0m \u001b[39mself\u001b[39m\u001b[39m.\u001b[39mnow  \u001b[39m=\u001b[39m \u001b[39mself\u001b[39m\u001b[39m.\u001b[39mroot\n",
      "\u001b[1;31mTypeError\u001b[0m: DecisionTree.cari_kata_terbaik() missing 1 required positional argument: 'daftar_kata'"
     ]
    }
   ],
   "source": [
    "DT = DecisionTree()\n",
    "DT.buat_tree(df_sample, pakai_semua_daftar=True)\n"
   ]
  },
  {
   "cell_type": "markdown",
   "metadata": {},
   "source": [
    "# Cari 2 kata terbaik <br>\n",
    "jawabannya : lekas rutin\n"
   ]
  },
  {
   "cell_type": "code",
   "execution_count": 50,
   "metadata": {},
   "outputs": [
    {
     "name": "stdout",
     "output_type": "stream",
     "text": [
      "9\n",
      "['bodoh', 'bomoh', 'dohyo', 'gocoh', 'gogoh', 'gopoh', 'jodoh', 'jompo', 'mbojo']\n"
     ]
    }
   ],
   "source": [
    "kata12 = set(\"lekasrutin\")\n",
    "kata3 = []\n",
    "\n",
    "for kata in daftar_kata:\n",
    "    if len(kata12.intersection(set(kata))) == 0:\n",
    "        kata3.append(kata)\n",
    "\n",
    "print(len(kata3))\n",
    "print(kata3)\n"
   ]
  },
  {
   "cell_type": "code",
   "execution_count": 54,
   "metadata": {},
   "outputs": [
    {
     "data": {
      "text/plain": [
       "[('a', 6505),\n",
       " ('e', 3143),\n",
       " ('i', 3057),\n",
       " ('u', 2844),\n",
       " ('k', 2736),\n",
       " ('r', 2517),\n",
       " ('t', 2246),\n",
       " ('s', 2225),\n",
       " ('l', 2099),\n",
       " ('n', 2083),\n",
       " ('o', 1905),\n",
       " ('p', 1550),\n",
       " ('m', 1522),\n",
       " ('b', 1448),\n",
       " ('d', 1209)]"
      ]
     },
     "execution_count": 54,
     "metadata": {},
     "output_type": "execute_result"
    }
   ],
   "source": [
    "Counter(all_kata).most_common(15)\n"
   ]
  }
 ],
 "metadata": {
  "interpreter": {
   "hash": "9d1374e53a6092f852bc6f80edf7bb9a8943712eabdd7fdf0a60802782b29ee3"
  },
  "kernelspec": {
   "display_name": "Python 3.10.4 64-bit",
   "language": "python",
   "name": "python3"
  },
  "language_info": {
   "codemirror_mode": {
    "name": "ipython",
    "version": 3
   },
   "file_extension": ".py",
   "mimetype": "text/x-python",
   "name": "python",
   "nbconvert_exporter": "python",
   "pygments_lexer": "ipython3",
   "version": "3.10.4"
  },
  "orig_nbformat": 4
 },
 "nbformat": 4,
 "nbformat_minor": 2
}
