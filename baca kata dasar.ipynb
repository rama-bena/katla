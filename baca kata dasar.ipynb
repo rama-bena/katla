{
 "cells": [
  {
   "cell_type": "markdown",
   "metadata": {},
   "source": [
    "# Import"
   ]
  },
  {
   "cell_type": "code",
   "execution_count": 32,
   "metadata": {},
   "outputs": [],
   "source": [
    "import numpy as np\n",
    "import pandas as pd\n",
    "\n",
    "import re\n",
    "\n",
    "PATH_FILE_TEXT = \"D:\\\\Rama Nitip\\\\python\\\\katla\\\\file text\\\\\""
   ]
  },
  {
   "cell_type": "markdown",
   "metadata": {},
   "source": [
    "# Baca daftar kata"
   ]
  },
  {
   "cell_type": "code",
   "execution_count": 33,
   "metadata": {},
   "outputs": [],
   "source": [
    "raw_df = \"\"\n",
    "with open(PATH_FILE_TEXT +  'daftar kata katla.txt', 'r') as file:\n",
    "    raw_df = file.readlines()\n",
    "raw_df = raw_df[0].split(',')\n",
    "raw_df = [kata[1:-1].lower() for kata in raw_df]"
   ]
  },
  {
   "cell_type": "code",
   "execution_count": 37,
   "metadata": {},
   "outputs": [],
   "source": [
    "pd.Series(raw_df).to_csv(PATH_FILE_TEXT + \"lima huruf katla.csv\", index=False, header=None)"
   ]
  },
  {
   "cell_type": "code",
   "execution_count": 36,
   "metadata": {},
   "outputs": [
    {
     "data": {
      "text/plain": [
       "0       abadi\n",
       "1       abaka\n",
       "2       abang\n",
       "3       abate\n",
       "4       abawi\n",
       "        ...  \n",
       "8309    zuama\n",
       "8310    zubur\n",
       "8311    zuhud\n",
       "8312    zuhur\n",
       "8313    zumba\n",
       "Length: 8314, dtype: object"
      ]
     },
     "execution_count": 36,
     "metadata": {},
     "output_type": "execute_result"
    }
   ],
   "source": [
    "pd.Series(raw_df)"
   ]
  }
 ],
 "metadata": {
  "interpreter": {
   "hash": "36056b89d1582adb3c0e22f00d1aec0386fea41cc6a267394c1b0a0fff29c637"
  },
  "kernelspec": {
   "display_name": "Python 3.10.4 64-bit",
   "language": "python",
   "name": "python3"
  },
  "language_info": {
   "codemirror_mode": {
    "name": "ipython",
    "version": 3
   },
   "file_extension": ".py",
   "mimetype": "text/x-python",
   "name": "python",
   "nbconvert_exporter": "python",
   "pygments_lexer": "ipython3",
   "version": "3.10.4"
  },
  "orig_nbformat": 4
 },
 "nbformat": 4,
 "nbformat_minor": 2
}
