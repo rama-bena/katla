{
 "cells": [
  {
   "cell_type": "markdown",
   "metadata": {},
   "source": [
    "# Import"
   ]
  },
  {
   "cell_type": "code",
   "execution_count": 11,
   "metadata": {},
   "outputs": [],
   "source": [
    "import numpy as np\n",
    "import pandas as pd\n",
    "import random\n",
    "import re\n",
    "\n",
    "# Library Bantuan\n",
    "from tqdm import tqdm\n",
    "import warnings\n",
    "warnings.filterwarnings('ignore')\n",
    "\n",
    "\n",
    "# Library Sendiri\n",
    "from libraryBantuan.katla import Katla"
   ]
  },
  {
   "cell_type": "markdown",
   "metadata": {},
   "source": [
    "# Baca Data"
   ]
  },
  {
   "cell_type": "code",
   "execution_count": 3,
   "metadata": {},
   "outputs": [
    {
     "name": "stdout",
     "output_type": "stream",
     "text": [
      "Banyak Kata : 6311\n"
     ]
    }
   ],
   "source": [
    "daftar_kata = list(pd.read_csv('lima huruf.csv', header=None)[0])\n",
    "print(f\"Banyak Kata : {len(daftar_kata)}\")"
   ]
  },
  {
   "cell_type": "markdown",
   "metadata": {},
   "source": [
    "# Fungsi nebak"
   ]
  },
  {
   "cell_type": "markdown",
   "metadata": {},
   "source": [
    "! = benar <br>\n",
    "? = ada tapi salah tempat <br>\n",
    "\\* = tidak ada huruf tersebut\n"
   ]
  },
  {
   "cell_type": "markdown",
   "metadata": {},
   "source": [
    "## Class GameKatla"
   ]
  },
  {
   "cell_type": "code",
   "execution_count": 4,
   "metadata": {},
   "outputs": [],
   "source": [
    "class GameKatla():\n",
    "    def __init__(self, daftar_kata):\n",
    "        self.jumlah_tebakan = 0\n",
    "        self.MENANG = \"!!!!!\"\n",
    "        self.__jawaban = random.choice(daftar_kata)\n",
    "\n",
    "\n",
    "    def tebak(self, tebakan):\n",
    "        self.jumlah_tebakan += 1\n",
    "        respon_pola = self.__evaluasi_tebakan(tebakan)\n",
    "\n",
    "        if respon_pola == self.MENANG:                  # Sudah sama maka menang\n",
    "            return (\"selesai\", self.jumlah_tebakan)\n",
    "        if self.jumlah_tebakan == 6:                    # Sudah habis batas tebak dan masih salah\n",
    "            return (\"selesai\", 10)\n",
    "        \n",
    "\n",
    "    def __evaluasi_tebakan(self, tebakan):\n",
    "        list_jawaban = []\n",
    "        respon_pola = ['*']*5\n",
    "        for i in range(5):\n",
    "            if self.__jawaban[i] == tebakan[i]:\n",
    "                respon_pola[i] = '!'\n",
    "            else:\n",
    "                list_jawaban.append(self.__jawaban[i])\n",
    "        \n",
    "        for i in range(5):\n",
    "            if respon_pola[i] == '!':\n",
    "                continue\n",
    "            if tebakan[i] in list_jawaban:\n",
    "                respon_pola[i] = '?'\n",
    "                list_jawaban.remove(tebakan[i])\n",
    "        return ''.join(respon_pola)\n",
    "\n",
    "        "
   ]
  },
  {
   "cell_type": "markdown",
   "metadata": {},
   "source": [
    "# Program Utama"
   ]
  },
  {
   "cell_type": "code",
   "execution_count": 5,
   "metadata": {},
   "outputs": [
    {
     "name": "stdout",
     "output_type": "stream",
     "text": [
      "Banyak Kata : 1\n",
      "['aksen']\n",
      "\n",
      "\n"
     ]
    },
    {
     "data": {
      "text/plain": [
       "'aksen'"
      ]
     },
     "execution_count": 5,
     "metadata": {},
     "output_type": "execute_result"
    }
   ],
   "source": [
    "katla = Katla(daftar_kata)\n",
    "\n",
    "katla.tebakan_selanjutnya(\"qudsi\", \"***?*\")\n",
    "katla.tebakan_selanjutnya(\"veste\", \"*?!**\")\n",
    "katla.tebakan_selanjutnya(\"faset\", \"*?!!*\")\n",
    "katla.tebakan_selanjutnya(\"absen\", \"!*!!!\", True)"
   ]
  },
  {
   "cell_type": "code",
   "execution_count": 11,
   "metadata": {},
   "outputs": [
    {
     "data": {
      "text/plain": [
       "[]"
      ]
     },
     "execution_count": 11,
     "metadata": {},
     "output_type": "execute_result"
    }
   ],
   "source": [
    "katla.kandidat(\"veste\", \"*?!**\", katla.daftar_kata)"
   ]
  },
  {
   "cell_type": "code",
   "execution_count": 73,
   "metadata": {},
   "outputs": [
    {
     "data": {
      "text/plain": [
       "['absen', 'aksen']"
      ]
     },
     "execution_count": 73,
     "metadata": {},
     "output_type": "execute_result"
    }
   ],
   "source": [
    "katla.kandidat(\"absen\", \"!*!!!\", katla.daftar_kata)"
   ]
  },
  {
   "cell_type": "code",
   "execution_count": 6,
   "metadata": {},
   "outputs": [
    {
     "name": "stdout",
     "output_type": "stream",
     "text": [
      "a[^ b]sen\n"
     ]
    },
    {
     "data": {
      "text/plain": [
       "['aksen']"
      ]
     },
     "execution_count": 6,
     "metadata": {},
     "output_type": "execute_result"
    }
   ],
   "source": [
    "tes = Katla(daftar_kata)\n",
    "tes.kandidat(\"absen\", \"!*!!!\", daftar_kata)"
   ]
  },
  {
   "cell_type": "code",
   "execution_count": 15,
   "metadata": {},
   "outputs": [
    {
     "name": "stdout",
     "output_type": "stream",
     "text": [
      "[^ vt][^ evt]s[^ vt][^ vt]\n",
      "22\n",
      "['absen', 'abses', 'aksen', 'aksep', 'akses', 'eksak', 'eksem', 'ekses', 'ekspo', 'eosen', 'kasep', 'kaspe', 'kosek', 'kosel', 'kosen', 'laser', 'maser', 'nasel', 'opsen', 'paser', 'poser', 'rasem']\n"
     ]
    }
   ],
   "source": [
    "tebakan   = \"veste\"\n",
    "pola      = \"*?!**\"\n",
    "# jawaban = \"aksen\"\n",
    "\n",
    "daf_kata = katla.daftar_kata\n",
    "pola_regex = [r\"\\w\"]*5\n",
    "huruf_tanda_tanya = [tebakan[i] for i in range(5) if pola[i]=='?']\n",
    "huruf_bintang = ''.join([tebakan[i] for i in range(5) if (pola[i]=='*') & (tebakan[i] not in huruf_tanda_tanya)])\n",
    "\n",
    "# Membentuk pola regex\n",
    "for i, p in enumerate(pola):\n",
    "    if p == '!':\n",
    "        pola_regex[i] = tebakan[i]\n",
    "    elif p == '?':\n",
    "        pola_regex[i] = f\"[^ {tebakan[i]+huruf_bintang}]\"\n",
    "    elif p == '*':\n",
    "        pola_regex[i] = f\"[^ {huruf_bintang}]\"\n",
    "\n",
    "\n",
    "pola_regex = r\"\".join(pola_regex)\n",
    "daf_kata = re.findall(pola_regex, ' '.join(daf_kata))\n",
    "print(pola_regex)\n",
    "# print(len(daf_kata))\n",
    "# print(daf_kata)\n",
    "\n",
    "# Mengambil kata2 yang ada huruf ?\n",
    "list_harus_ada_huruf = [tebakan[i] for i in range(5) if pola[i]=='?']\n",
    "new_daf_kata = []\n",
    "for kata in daf_kata:\n",
    "    kata_tanpa_benar = [kata[i] for i in range(5) if pola[i]!='!']\n",
    "    sudah_benar = True\n",
    "    for harus_ada_huruf in list_harus_ada_huruf:\n",
    "        if harus_ada_huruf in kata_tanpa_benar:\n",
    "            kata_tanpa_benar.remove(harus_ada_huruf)\n",
    "        else:\n",
    "            sudah_benar=False; break\n",
    "    if sudah_benar:\n",
    "        new_daf_kata.append(kata)\n",
    "\n",
    "daf_kata = new_daf_kata\n",
    "print(len(daf_kata))\n",
    "print(daf_kata)"
   ]
  },
  {
   "cell_type": "markdown",
   "metadata": {},
   "source": [
    "# Cari kata terbaik"
   ]
  },
  {
   "cell_type": "code",
   "execution_count": 49,
   "metadata": {},
   "outputs": [],
   "source": [
    "\n",
    "\n",
    "def cari_kata_terbaik(daftar_kata):\n",
    "    def cari_semua_kemungkinan_pola():\n",
    "        T = {'0' : '*', '1' : '?', '2' : '!'}\n",
    "        list_pola = []\n",
    "        for number in range(3**5):\n",
    "            ternary=np.base_repr(number,base=3)\n",
    "            pola = f\"{ternary:05s}\"\n",
    "            list_pola.append(''.join([T[i] for i in pola]))\n",
    "        return list_pola\n",
    "    \n",
    "    def P(x):\n",
    "        return x / len(daftar_kata)\n",
    "    \n",
    "    semua_pola = cari_semua_kemungkinan_pola()\n",
    "    katla = Katla(daftar_kata)\n",
    "    kata_entropi = pd.DataFrame({'kata':[], 'entropi':[]})\n",
    "    # Cari kata terbaik\n",
    "    for kata in tqdm(daftar_kata):\n",
    "        entropi = 0\n",
    "        for pola in semua_pola:\n",
    "            banyak = len(katla.kandidat(kata, pola, daftar_kata))\n",
    "            pi = P(banyak)\n",
    "            entropi += (pi*np.log2(pi)) if pi !=0 else 0\n",
    "        entropi *= -1\n",
    "        kata_entropi = pd.concat([kata_entropi, pd.DataFrame({'kata':[kata], 'entropi':[entropi]})], \n",
    "                                 ignore_index=True)\n",
    "        kata_entropi = kata_entropi.sort_values(by='entropi', ascending=False)\n",
    "        kata_entropi.to_csv('kata entropi.csv', index=False)\n",
    "\n",
    "    # return kata_entropi"
   ]
  },
  {
   "cell_type": "code",
   "execution_count": 50,
   "metadata": {},
   "outputs": [
    {
     "name": "stderr",
     "output_type": "stream",
     "text": [
      "100%|██████████| 6311/6311 [37:12<00:00,  2.83it/s]  \n"
     ]
    }
   ],
   "source": [
    "cari_kata_terbaik(daftar_kata)"
   ]
  },
  {
   "cell_type": "code",
   "execution_count": 39,
   "metadata": {},
   "outputs": [
    {
     "data": {
      "text/plain": [
       "nan"
      ]
     },
     "execution_count": 39,
     "metadata": {},
     "output_type": "execute_result"
    }
   ],
   "source": [
    "np.log2(0) * 0"
   ]
  }
 ],
 "metadata": {
  "interpreter": {
   "hash": "36056b89d1582adb3c0e22f00d1aec0386fea41cc6a267394c1b0a0fff29c637"
  },
  "kernelspec": {
   "display_name": "Python 3.10.4 64-bit",
   "language": "python",
   "name": "python3"
  },
  "language_info": {
   "codemirror_mode": {
    "name": "ipython",
    "version": 3
   },
   "file_extension": ".py",
   "mimetype": "text/x-python",
   "name": "python",
   "nbconvert_exporter": "python",
   "pygments_lexer": "ipython3",
   "version": "3.10.4"
  },
  "orig_nbformat": 4
 },
 "nbformat": 4,
 "nbformat_minor": 2
}
