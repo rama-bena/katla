{
 "cells": [
  {
   "cell_type": "markdown",
   "metadata": {},
   "source": [
    "# Import"
   ]
  },
  {
   "cell_type": "code",
   "execution_count": 7,
   "metadata": {},
   "outputs": [],
   "source": [
    "import numpy as np\n",
    "import pandas as pd\n",
    "import random\n",
    "import re\n",
    "\n",
    "# Library Bantuan\n",
    "from libraryBantuan.katla import Katla"
   ]
  },
  {
   "cell_type": "markdown",
   "metadata": {},
   "source": [
    "# Baca Data"
   ]
  },
  {
   "cell_type": "code",
   "execution_count": 6,
   "metadata": {},
   "outputs": [
    {
     "name": "stdout",
     "output_type": "stream",
     "text": [
      "Banyak Kata : 6311\n"
     ]
    }
   ],
   "source": [
    "daftar_kata = list(pd.read_csv('lima huruf.csv', header=None)[0])\n",
    "print(f\"Banyak Kata : {len(daftar_kata)}\")"
   ]
  },
  {
   "cell_type": "markdown",
   "metadata": {},
   "source": [
    "# Fungsi nebak"
   ]
  },
  {
   "cell_type": "markdown",
   "metadata": {},
   "source": [
    "! = benar <br>\n",
    "? = ada tapi salah tempat <br>\n",
    "\\* = tidak ada huruf tersebut\n"
   ]
  },
  {
   "cell_type": "markdown",
   "metadata": {},
   "source": [
    "## Class Katla"
   ]
  },
  {
   "cell_type": "code",
   "execution_count": 3,
   "metadata": {},
   "outputs": [],
   "source": []
  },
  {
   "cell_type": "markdown",
   "metadata": {},
   "source": [
    "## Class GameKatla"
   ]
  },
  {
   "cell_type": "code",
   "execution_count": 4,
   "metadata": {},
   "outputs": [],
   "source": [
    "class GameKatla():\n",
    "    def __init__(self, daftar_kata):\n",
    "        self.jumlah_tebakan = 0\n",
    "        self.MENANG = \"!!!!!\"\n",
    "        self.__jawaban = random.choice(daftar_kata)\n",
    "\n",
    "\n",
    "    def tebak(self, tebakan):\n",
    "        self.jumlah_tebakan += 1\n",
    "        respon_pola = self.__evaluasi_tebakan(tebakan)\n",
    "\n",
    "        if respon_pola == self.MENANG:                  # Sudah sama maka menang\n",
    "            return (\"selesai\", self.jumlah_tebakan)\n",
    "        if self.jumlah_tebakan == 6:                    # Sudah habis batas tebak dan masih salah\n",
    "            return (\"selesai\", 10)\n",
    "        \n",
    "\n",
    "    def __evaluasi_tebakan(self, tebakan):\n",
    "        list_jawaban = []\n",
    "        respon_pola = ['*']*5\n",
    "        for i in range(5):\n",
    "            if self.__jawaban[i] == tebakan[i]:\n",
    "                respon_pola[i] = '!'\n",
    "            else:\n",
    "                list_jawaban.append(self.__jawaban[i])\n",
    "        \n",
    "        for i in range(5):\n",
    "            if respon_pola[i] == '!':\n",
    "                continue\n",
    "            if tebakan[i] in list_jawaban:\n",
    "                respon_pola[i] = '?'\n",
    "                list_jawaban.remove(tebakan[i])\n",
    "        return ''.join(respon_pola)\n",
    "\n",
    "        "
   ]
  },
  {
   "cell_type": "markdown",
   "metadata": {},
   "source": [
    "# Program Utama"
   ]
  },
  {
   "cell_type": "code",
   "execution_count": 5,
   "metadata": {},
   "outputs": [
    {
     "data": {
      "text/plain": [
       "'bandu'"
      ]
     },
     "execution_count": 5,
     "metadata": {},
     "output_type": "execute_result"
    }
   ],
   "source": [
    "katla = Katla(daftar_kata)\n",
    "\n",
    "katla.tebakan_selanjutnya(\"semua\", \"***??\")\n",
    "katla.tebakan_selanjutnya(\"uktab\", \"?**??\")\n",
    "katla.tebakan_selanjutnya(\"banyu\", \"!!!*!\")"
   ]
  }
 ],
 "metadata": {
  "interpreter": {
   "hash": "36056b89d1582adb3c0e22f00d1aec0386fea41cc6a267394c1b0a0fff29c637"
  },
  "kernelspec": {
   "display_name": "Python 3.10.4 64-bit",
   "language": "python",
   "name": "python3"
  },
  "language_info": {
   "codemirror_mode": {
    "name": "ipython",
    "version": 3
   },
   "file_extension": ".py",
   "mimetype": "text/x-python",
   "name": "python",
   "nbconvert_exporter": "python",
   "pygments_lexer": "ipython3",
   "version": "3.10.4"
  },
  "orig_nbformat": 4
 },
 "nbformat": 4,
 "nbformat_minor": 2
}
